{
 "cells": [
  {
   "cell_type": "code",
   "execution_count": 1,
   "id": "446425db",
   "metadata": {},
   "outputs": [],
   "source": [
    "# Importing Libraries\n",
    "import pandas as pd\n",
    "import matplotlib.pyplot as plt\n",
    "import seaborn as sns\n",
    "from sklearn.preprocessing import StandardScaler\n",
    "from sklearn.cluster import KMeans\n",
    "from sklearn.metrics import silhouette_score\n",
    "from sklearn.decomposition import PCA\n",
    "import plotly.express as px\n",
    "import statsmodels.api as sm"
   ]
  },
  {
   "cell_type": "markdown",
   "id": "17cecbda",
   "metadata": {},
   "source": [
    "#### Exploring Dataset and Gaining Insights"
   ]
  },
  {
   "cell_type": "code",
   "execution_count": null,
   "id": "c851a7ee",
   "metadata": {},
   "outputs": [
    {
     "data": {
      "application/vnd.microsoft.datawrangler.viewer.v0+json": {
       "columns": [
        {
         "name": "index",
         "rawType": "int64",
         "type": "integer"
        },
        {
         "name": "Kommun_code",
         "rawType": "int64",
         "type": "integer"
        },
        {
         "name": "Year",
         "rawType": "int64",
         "type": "integer"
        },
        {
         "name": "Kommun_name",
         "rawType": "object",
         "type": "string"
        },
        {
         "name": "Revenue",
         "rawType": "int64",
         "type": "integer"
        },
        {
         "name": "Employee",
         "rawType": "int64",
         "type": "integer"
        },
        {
         "name": "Population",
         "rawType": "int64",
         "type": "integer"
        },
        {
         "name": "Population_University",
         "rawType": "int64",
         "type": "integer"
        },
        {
         "name": "Percent_University",
         "rawType": "float64",
         "type": "float"
        },
        {
         "name": "Productivity",
         "rawType": "float64",
         "type": "float"
        },
        {
         "name": "SalesIndex",
         "rawType": "float64",
         "type": "float"
        },
        {
         "name": "Infrast",
         "rawType": "int64",
         "type": "integer"
        },
        {
         "name": "Border",
         "rawType": "int64",
         "type": "integer"
        }
       ],
       "ref": "f395df10-1ab6-43b3-9a14-f6e556f093a2",
       "rows": [
        [
         "0",
         "2583",
         "2010",
         "Haparanda",
         "1078",
         "276",
         "10059",
         "719",
         "0.07147828",
         "195.74174",
         "111.075774",
         "0",
         "1"
        ],
        [
         "1",
         "880",
         "2010",
         "Kalmar",
         "3790",
         "1621",
         "62815",
         "8716",
         "0.13875667",
         "117.17365",
         "390.516869",
         "0",
         "0"
        ],
        [
         "2",
         "1780",
         "2010",
         "Karlstad",
         "4560",
         "1910",
         "85753",
         "13308",
         "0.15518991",
         "119.64794",
         "469.856708",
         "0",
         "0"
        ],
        [
         "3",
         "114",
         "2010",
         "Upplands Väsby",
         "1366",
         "708",
         "39289",
         "4419",
         "0.11247423",
         "96.69215",
         "140.750935",
         "0",
         "0"
        ],
        [
         "4",
         "115",
         "2010",
         "Vallentuna",
         "171",
         "99",
         "30114",
         "3843",
         "0.12761506",
         "86.56347",
         "17.619627",
         "0",
         "0"
        ]
       ],
       "shape": {
        "columns": 12,
        "rows": 5
       }
      },
      "text/html": [
       "<div>\n",
       "<style scoped>\n",
       "    .dataframe tbody tr th:only-of-type {\n",
       "        vertical-align: middle;\n",
       "    }\n",
       "\n",
       "    .dataframe tbody tr th {\n",
       "        vertical-align: top;\n",
       "    }\n",
       "\n",
       "    .dataframe thead th {\n",
       "        text-align: right;\n",
       "    }\n",
       "</style>\n",
       "<table border=\"1\" class=\"dataframe\">\n",
       "  <thead>\n",
       "    <tr style=\"text-align: right;\">\n",
       "      <th></th>\n",
       "      <th>Kommun_code</th>\n",
       "      <th>Year</th>\n",
       "      <th>Kommun_name</th>\n",
       "      <th>Revenue</th>\n",
       "      <th>Employee</th>\n",
       "      <th>Population</th>\n",
       "      <th>Population_University</th>\n",
       "      <th>Percent_University</th>\n",
       "      <th>Productivity</th>\n",
       "      <th>SalesIndex</th>\n",
       "      <th>Infrast</th>\n",
       "      <th>Border</th>\n",
       "    </tr>\n",
       "  </thead>\n",
       "  <tbody>\n",
       "    <tr>\n",
       "      <th>0</th>\n",
       "      <td>2583</td>\n",
       "      <td>2010</td>\n",
       "      <td>Haparanda</td>\n",
       "      <td>1078</td>\n",
       "      <td>276</td>\n",
       "      <td>10059</td>\n",
       "      <td>719</td>\n",
       "      <td>0.071478</td>\n",
       "      <td>195.74174</td>\n",
       "      <td>111.075774</td>\n",
       "      <td>0</td>\n",
       "      <td>1</td>\n",
       "    </tr>\n",
       "    <tr>\n",
       "      <th>1</th>\n",
       "      <td>880</td>\n",
       "      <td>2010</td>\n",
       "      <td>Kalmar</td>\n",
       "      <td>3790</td>\n",
       "      <td>1621</td>\n",
       "      <td>62815</td>\n",
       "      <td>8716</td>\n",
       "      <td>0.138757</td>\n",
       "      <td>117.17365</td>\n",
       "      <td>390.516869</td>\n",
       "      <td>0</td>\n",
       "      <td>0</td>\n",
       "    </tr>\n",
       "    <tr>\n",
       "      <th>2</th>\n",
       "      <td>1780</td>\n",
       "      <td>2010</td>\n",
       "      <td>Karlstad</td>\n",
       "      <td>4560</td>\n",
       "      <td>1910</td>\n",
       "      <td>85753</td>\n",
       "      <td>13308</td>\n",
       "      <td>0.155190</td>\n",
       "      <td>119.64794</td>\n",
       "      <td>469.856708</td>\n",
       "      <td>0</td>\n",
       "      <td>0</td>\n",
       "    </tr>\n",
       "    <tr>\n",
       "      <th>3</th>\n",
       "      <td>114</td>\n",
       "      <td>2010</td>\n",
       "      <td>Upplands Väsby</td>\n",
       "      <td>1366</td>\n",
       "      <td>708</td>\n",
       "      <td>39289</td>\n",
       "      <td>4419</td>\n",
       "      <td>0.112474</td>\n",
       "      <td>96.69215</td>\n",
       "      <td>140.750935</td>\n",
       "      <td>0</td>\n",
       "      <td>0</td>\n",
       "    </tr>\n",
       "    <tr>\n",
       "      <th>4</th>\n",
       "      <td>115</td>\n",
       "      <td>2010</td>\n",
       "      <td>Vallentuna</td>\n",
       "      <td>171</td>\n",
       "      <td>99</td>\n",
       "      <td>30114</td>\n",
       "      <td>3843</td>\n",
       "      <td>0.127615</td>\n",
       "      <td>86.56347</td>\n",
       "      <td>17.619627</td>\n",
       "      <td>0</td>\n",
       "      <td>0</td>\n",
       "    </tr>\n",
       "  </tbody>\n",
       "</table>\n",
       "</div>"
      ],
      "text/plain": [
       "   Kommun_code  Year     Kommun_name  Revenue  Employee  Population  \\\n",
       "0         2583  2010       Haparanda     1078       276       10059   \n",
       "1          880  2010          Kalmar     3790      1621       62815   \n",
       "2         1780  2010        Karlstad     4560      1910       85753   \n",
       "3          114  2010  Upplands Väsby     1366       708       39289   \n",
       "4          115  2010      Vallentuna      171        99       30114   \n",
       "\n",
       "   Population_University  Percent_University  Productivity  SalesIndex  \\\n",
       "0                    719            0.071478     195.74174  111.075774   \n",
       "1                   8716            0.138757     117.17365  390.516869   \n",
       "2                  13308            0.155190     119.64794  469.856708   \n",
       "3                   4419            0.112474      96.69215  140.750935   \n",
       "4                   3843            0.127615      86.56347   17.619627   \n",
       "\n",
       "   Infrast  Border  \n",
       "0        0       1  \n",
       "1        0       0  \n",
       "2        0       0  \n",
       "3        0       0  \n",
       "4        0       0  "
      ]
     },
     "execution_count": 4,
     "metadata": {},
     "output_type": "execute_result"
    }
   ],
   "source": [
    "# Loading the original dataset \n",
    "ikea_data = pd.read_csv(\"C:/Users/hp/OneDrive - Högskolan Dalarna/Business Intelligence/Lab3_Clustering/ikea_kommun_data.txt\", delimiter = '\\t', encoding = 'latin1')\n",
    "\n",
    "# See the structure of data\n",
    "ikea_data.head()"
   ]
  },
  {
   "cell_type": "code",
   "execution_count": 98,
   "id": "2c8fdfba",
   "metadata": {},
   "outputs": [
    {
     "data": {
      "application/vnd.microsoft.datawrangler.viewer.v0+json": {
       "columns": [
        {
         "name": "index",
         "rawType": "object",
         "type": "string"
        },
        {
         "name": "Kommun_code",
         "rawType": "float64",
         "type": "float"
        },
        {
         "name": "Year",
         "rawType": "float64",
         "type": "float"
        },
        {
         "name": "Revenue",
         "rawType": "float64",
         "type": "float"
        },
        {
         "name": "Employee",
         "rawType": "float64",
         "type": "float"
        },
        {
         "name": "Population",
         "rawType": "float64",
         "type": "float"
        },
        {
         "name": "Population_University",
         "rawType": "float64",
         "type": "float"
        },
        {
         "name": "Percent_University",
         "rawType": "float64",
         "type": "float"
        },
        {
         "name": "Productivity",
         "rawType": "float64",
         "type": "float"
        },
        {
         "name": "SalesIndex",
         "rawType": "float64",
         "type": "float"
        },
        {
         "name": "Infrast",
         "rawType": "float64",
         "type": "float"
        },
        {
         "name": "Border",
         "rawType": "float64",
         "type": "float"
        }
       ],
       "ref": "9680f59e-2f96-42e0-8ee8-962f23e0c84e",
       "rows": [
        [
         "count",
         "207.0",
         "207.0",
         "207.0",
         "207.0",
         "207.0",
         "207.0",
         "207.0",
         "207.0",
         "207.0",
         "207.0",
         "207.0"
        ],
        [
         "mean",
         "1049.7342995169083",
         "2010.0",
         "1031.8019323671497",
         "523.0386473429952",
         "34543.3961352657",
         "4660.106280193237",
         "0.09746109154589373",
         "91.4540024637681",
         "106.31558320289854",
         "0.04830917874396135",
         "0.03864734299516908"
        ],
        [
         "std",
         "541.0654554846419",
         "0.0",
         "2694.8895494768876",
         "1463.194426772453",
         "66882.49974037996",
         "14403.495784155444",
         "0.04075996060773753",
         "27.960866648379643",
         "277.67805549556437",
         "0.21493855763012462",
         "0.1932202985381658"
        ],
        [
         "min",
         "114.0",
         "2010.0",
         "11.0",
         "2.0",
         "3672.0",
         "174.0",
         "0.04614161",
         "19.89888",
         "1.133426",
         "0.0",
         "0.0"
        ],
        [
         "25%",
         "582.5",
         "2010.0",
         "110.0",
         "64.5",
         "10785.5",
         "788.5",
         "0.069015015",
         "74.70091",
         "11.334262500000001",
         "0.0",
         "0.0"
        ],
        [
         "50%",
         "1263.0",
         "2010.0",
         "252.0",
         "142.0",
         "16515.0",
         "1598.0",
         "0.08660131",
         "90.45705",
         "25.965765",
         "0.0",
         "0.0"
        ],
        [
         "75%",
         "1461.5",
         "2010.0",
         "825.5",
         "435.0",
         "37922.0",
         "4073.5",
         "0.112084865",
         "104.008805",
         "85.0584895",
         "0.0",
         "0.0"
        ],
        [
         "max",
         "2583.0",
         "2010.0",
         "32897.0",
         "18795.0",
         "847073.0",
         "191585.0",
         "0.26964571",
         "275.63633",
         "3389.665819",
         "1.0",
         "1.0"
        ]
       ],
       "shape": {
        "columns": 11,
        "rows": 8
       }
      },
      "text/html": [
       "<div>\n",
       "<style scoped>\n",
       "    .dataframe tbody tr th:only-of-type {\n",
       "        vertical-align: middle;\n",
       "    }\n",
       "\n",
       "    .dataframe tbody tr th {\n",
       "        vertical-align: top;\n",
       "    }\n",
       "\n",
       "    .dataframe thead th {\n",
       "        text-align: right;\n",
       "    }\n",
       "</style>\n",
       "<table border=\"1\" class=\"dataframe\">\n",
       "  <thead>\n",
       "    <tr style=\"text-align: right;\">\n",
       "      <th></th>\n",
       "      <th>Kommun_code</th>\n",
       "      <th>Year</th>\n",
       "      <th>Revenue</th>\n",
       "      <th>Employee</th>\n",
       "      <th>Population</th>\n",
       "      <th>Population_University</th>\n",
       "      <th>Percent_University</th>\n",
       "      <th>Productivity</th>\n",
       "      <th>SalesIndex</th>\n",
       "      <th>Infrast</th>\n",
       "      <th>Border</th>\n",
       "    </tr>\n",
       "  </thead>\n",
       "  <tbody>\n",
       "    <tr>\n",
       "      <th>count</th>\n",
       "      <td>207.000000</td>\n",
       "      <td>207.0</td>\n",
       "      <td>207.000000</td>\n",
       "      <td>207.000000</td>\n",
       "      <td>207.000000</td>\n",
       "      <td>207.000000</td>\n",
       "      <td>207.000000</td>\n",
       "      <td>207.000000</td>\n",
       "      <td>207.000000</td>\n",
       "      <td>207.000000</td>\n",
       "      <td>207.000000</td>\n",
       "    </tr>\n",
       "    <tr>\n",
       "      <th>mean</th>\n",
       "      <td>1049.734300</td>\n",
       "      <td>2010.0</td>\n",
       "      <td>1031.801932</td>\n",
       "      <td>523.038647</td>\n",
       "      <td>34543.396135</td>\n",
       "      <td>4660.106280</td>\n",
       "      <td>0.097461</td>\n",
       "      <td>91.454002</td>\n",
       "      <td>106.315583</td>\n",
       "      <td>0.048309</td>\n",
       "      <td>0.038647</td>\n",
       "    </tr>\n",
       "    <tr>\n",
       "      <th>std</th>\n",
       "      <td>541.065455</td>\n",
       "      <td>0.0</td>\n",
       "      <td>2694.889549</td>\n",
       "      <td>1463.194427</td>\n",
       "      <td>66882.499740</td>\n",
       "      <td>14403.495784</td>\n",
       "      <td>0.040760</td>\n",
       "      <td>27.960867</td>\n",
       "      <td>277.678055</td>\n",
       "      <td>0.214939</td>\n",
       "      <td>0.193220</td>\n",
       "    </tr>\n",
       "    <tr>\n",
       "      <th>min</th>\n",
       "      <td>114.000000</td>\n",
       "      <td>2010.0</td>\n",
       "      <td>11.000000</td>\n",
       "      <td>2.000000</td>\n",
       "      <td>3672.000000</td>\n",
       "      <td>174.000000</td>\n",
       "      <td>0.046142</td>\n",
       "      <td>19.898880</td>\n",
       "      <td>1.133426</td>\n",
       "      <td>0.000000</td>\n",
       "      <td>0.000000</td>\n",
       "    </tr>\n",
       "    <tr>\n",
       "      <th>25%</th>\n",
       "      <td>582.500000</td>\n",
       "      <td>2010.0</td>\n",
       "      <td>110.000000</td>\n",
       "      <td>64.500000</td>\n",
       "      <td>10785.500000</td>\n",
       "      <td>788.500000</td>\n",
       "      <td>0.069015</td>\n",
       "      <td>74.700910</td>\n",
       "      <td>11.334263</td>\n",
       "      <td>0.000000</td>\n",
       "      <td>0.000000</td>\n",
       "    </tr>\n",
       "    <tr>\n",
       "      <th>50%</th>\n",
       "      <td>1263.000000</td>\n",
       "      <td>2010.0</td>\n",
       "      <td>252.000000</td>\n",
       "      <td>142.000000</td>\n",
       "      <td>16515.000000</td>\n",
       "      <td>1598.000000</td>\n",
       "      <td>0.086601</td>\n",
       "      <td>90.457050</td>\n",
       "      <td>25.965765</td>\n",
       "      <td>0.000000</td>\n",
       "      <td>0.000000</td>\n",
       "    </tr>\n",
       "    <tr>\n",
       "      <th>75%</th>\n",
       "      <td>1461.500000</td>\n",
       "      <td>2010.0</td>\n",
       "      <td>825.500000</td>\n",
       "      <td>435.000000</td>\n",
       "      <td>37922.000000</td>\n",
       "      <td>4073.500000</td>\n",
       "      <td>0.112085</td>\n",
       "      <td>104.008805</td>\n",
       "      <td>85.058489</td>\n",
       "      <td>0.000000</td>\n",
       "      <td>0.000000</td>\n",
       "    </tr>\n",
       "    <tr>\n",
       "      <th>max</th>\n",
       "      <td>2583.000000</td>\n",
       "      <td>2010.0</td>\n",
       "      <td>32897.000000</td>\n",
       "      <td>18795.000000</td>\n",
       "      <td>847073.000000</td>\n",
       "      <td>191585.000000</td>\n",
       "      <td>0.269646</td>\n",
       "      <td>275.636330</td>\n",
       "      <td>3389.665819</td>\n",
       "      <td>1.000000</td>\n",
       "      <td>1.000000</td>\n",
       "    </tr>\n",
       "  </tbody>\n",
       "</table>\n",
       "</div>"
      ],
      "text/plain": [
       "       Kommun_code    Year       Revenue      Employee     Population  \\\n",
       "count   207.000000   207.0    207.000000    207.000000     207.000000   \n",
       "mean   1049.734300  2010.0   1031.801932    523.038647   34543.396135   \n",
       "std     541.065455     0.0   2694.889549   1463.194427   66882.499740   \n",
       "min     114.000000  2010.0     11.000000      2.000000    3672.000000   \n",
       "25%     582.500000  2010.0    110.000000     64.500000   10785.500000   \n",
       "50%    1263.000000  2010.0    252.000000    142.000000   16515.000000   \n",
       "75%    1461.500000  2010.0    825.500000    435.000000   37922.000000   \n",
       "max    2583.000000  2010.0  32897.000000  18795.000000  847073.000000   \n",
       "\n",
       "       Population_University  Percent_University  Productivity   SalesIndex  \\\n",
       "count             207.000000          207.000000    207.000000   207.000000   \n",
       "mean             4660.106280            0.097461     91.454002   106.315583   \n",
       "std             14403.495784            0.040760     27.960867   277.678055   \n",
       "min               174.000000            0.046142     19.898880     1.133426   \n",
       "25%               788.500000            0.069015     74.700910    11.334263   \n",
       "50%              1598.000000            0.086601     90.457050    25.965765   \n",
       "75%              4073.500000            0.112085    104.008805    85.058489   \n",
       "max            191585.000000            0.269646    275.636330  3389.665819   \n",
       "\n",
       "          Infrast      Border  \n",
       "count  207.000000  207.000000  \n",
       "mean     0.048309    0.038647  \n",
       "std      0.214939    0.193220  \n",
       "min      0.000000    0.000000  \n",
       "25%      0.000000    0.000000  \n",
       "50%      0.000000    0.000000  \n",
       "75%      0.000000    0.000000  \n",
       "max      1.000000    1.000000  "
      ]
     },
     "execution_count": 98,
     "metadata": {},
     "output_type": "execute_result"
    }
   ],
   "source": [
    "# Understanding the data types\n",
    "# ikea_data.describe(include = object)\n",
    "ikea_data.describe()"
   ]
  },
  {
   "cell_type": "code",
   "execution_count": 99,
   "id": "2a7597ed",
   "metadata": {},
   "outputs": [
    {
     "data": {
      "application/vnd.microsoft.datawrangler.viewer.v0+json": {
       "columns": [
        {
         "name": "index",
         "rawType": "object",
         "type": "string"
        },
        {
         "name": "Missing Count",
         "rawType": "int64",
         "type": "integer"
        },
        {
         "name": "Missing %",
         "rawType": "float64",
         "type": "float"
        }
       ],
       "ref": "46d38abf-d437-45d3-a8b4-8387ae0b9427",
       "rows": [
        [
         "Kommun_code",
         "0",
         "0.0"
        ],
        [
         "Year",
         "0",
         "0.0"
        ],
        [
         "Kommun_name",
         "0",
         "0.0"
        ],
        [
         "Revenue",
         "0",
         "0.0"
        ],
        [
         "Employee",
         "0",
         "0.0"
        ],
        [
         "Population",
         "0",
         "0.0"
        ],
        [
         "Population_University",
         "0",
         "0.0"
        ],
        [
         "Percent_University",
         "0",
         "0.0"
        ],
        [
         "Productivity",
         "0",
         "0.0"
        ],
        [
         "SalesIndex",
         "0",
         "0.0"
        ],
        [
         "Infrast",
         "0",
         "0.0"
        ],
        [
         "Border",
         "0",
         "0.0"
        ]
       ],
       "shape": {
        "columns": 2,
        "rows": 12
       }
      },
      "text/html": [
       "<div>\n",
       "<style scoped>\n",
       "    .dataframe tbody tr th:only-of-type {\n",
       "        vertical-align: middle;\n",
       "    }\n",
       "\n",
       "    .dataframe tbody tr th {\n",
       "        vertical-align: top;\n",
       "    }\n",
       "\n",
       "    .dataframe thead th {\n",
       "        text-align: right;\n",
       "    }\n",
       "</style>\n",
       "<table border=\"1\" class=\"dataframe\">\n",
       "  <thead>\n",
       "    <tr style=\"text-align: right;\">\n",
       "      <th></th>\n",
       "      <th>Missing Count</th>\n",
       "      <th>Missing %</th>\n",
       "    </tr>\n",
       "  </thead>\n",
       "  <tbody>\n",
       "    <tr>\n",
       "      <th>Kommun_code</th>\n",
       "      <td>0</td>\n",
       "      <td>0.0</td>\n",
       "    </tr>\n",
       "    <tr>\n",
       "      <th>Year</th>\n",
       "      <td>0</td>\n",
       "      <td>0.0</td>\n",
       "    </tr>\n",
       "    <tr>\n",
       "      <th>Kommun_name</th>\n",
       "      <td>0</td>\n",
       "      <td>0.0</td>\n",
       "    </tr>\n",
       "    <tr>\n",
       "      <th>Revenue</th>\n",
       "      <td>0</td>\n",
       "      <td>0.0</td>\n",
       "    </tr>\n",
       "    <tr>\n",
       "      <th>Employee</th>\n",
       "      <td>0</td>\n",
       "      <td>0.0</td>\n",
       "    </tr>\n",
       "    <tr>\n",
       "      <th>Population</th>\n",
       "      <td>0</td>\n",
       "      <td>0.0</td>\n",
       "    </tr>\n",
       "    <tr>\n",
       "      <th>Population_University</th>\n",
       "      <td>0</td>\n",
       "      <td>0.0</td>\n",
       "    </tr>\n",
       "    <tr>\n",
       "      <th>Percent_University</th>\n",
       "      <td>0</td>\n",
       "      <td>0.0</td>\n",
       "    </tr>\n",
       "    <tr>\n",
       "      <th>Productivity</th>\n",
       "      <td>0</td>\n",
       "      <td>0.0</td>\n",
       "    </tr>\n",
       "    <tr>\n",
       "      <th>SalesIndex</th>\n",
       "      <td>0</td>\n",
       "      <td>0.0</td>\n",
       "    </tr>\n",
       "    <tr>\n",
       "      <th>Infrast</th>\n",
       "      <td>0</td>\n",
       "      <td>0.0</td>\n",
       "    </tr>\n",
       "    <tr>\n",
       "      <th>Border</th>\n",
       "      <td>0</td>\n",
       "      <td>0.0</td>\n",
       "    </tr>\n",
       "  </tbody>\n",
       "</table>\n",
       "</div>"
      ],
      "text/plain": [
       "                       Missing Count  Missing %\n",
       "Kommun_code                        0        0.0\n",
       "Year                               0        0.0\n",
       "Kommun_name                        0        0.0\n",
       "Revenue                            0        0.0\n",
       "Employee                           0        0.0\n",
       "Population                         0        0.0\n",
       "Population_University              0        0.0\n",
       "Percent_University                 0        0.0\n",
       "Productivity                       0        0.0\n",
       "SalesIndex                         0        0.0\n",
       "Infrast                            0        0.0\n",
       "Border                             0        0.0"
      ]
     },
     "execution_count": 99,
     "metadata": {},
     "output_type": "execute_result"
    }
   ],
   "source": [
    "# Showing Missing Value Counts and Percentages\n",
    "\n",
    "# Analyzing missing values\n",
    "missing_count = ikea_data.isnull().sum()\n",
    "missing_percent = (missing_count / len(ikea_data)) * 100\n",
    "\n",
    "# Combine into a summary table\n",
    "missing_summary = pd.DataFrame({\n",
    "    'Missing Count': missing_count,\n",
    "    'Missing %': missing_percent.round(2)\n",
    "}).sort_values(by='Missing %', ascending=False)\n",
    "\n",
    "# Display summary\n",
    "missing_summary"
   ]
  },
  {
   "cell_type": "code",
   "execution_count": 100,
   "id": "0dbabcfd",
   "metadata": {},
   "outputs": [
    {
     "data": {
      "image/png": "[encoded data removed]",
      "text/plain": [
       "<Figure size 1100x900 with 2 Axes>"
      ]
     },
     "metadata": {},
     "output_type": "display_data"
    }
   ],
   "source": [
    "# Select numerical features\n",
    "num_cols = [\n",
    "    'Revenue', 'Population', 'Percent_University', 'Infrast', 'Border'\n",
    "]\n",
    "\n",
    "# Creating clear Correlation Heatmap \n",
    "\n",
    "# Set seaborn visual style\n",
    "sns.set(style=\"whitegrid\")\n",
    "\n",
    "# Compute correlation matrix\n",
    "correlation = ikea_data[num_cols].corr()\n",
    "\n",
    "# Plot heatmap\n",
    "plt.figure(figsize=(11, 9))\n",
    "sns.heatmap(\n",
    "    correlation,\n",
    "    annot=True,\n",
    "    cmap='coolwarm',\n",
    "    fmt=\".2f\",\n",
    "    linewidths=0.5,\n",
    "    xticklabels=1,\n",
    "    yticklabels=1,\n",
    "    cbar_kws={\"shrink\": 0.8}\n",
    ")\n",
    "\n",
    "plt.xticks(rotation=45, ha='right', fontsize=9)\n",
    "plt.yticks(fontsize=9)\n",
    "plt.title(\"Correlation Matrix\", fontsize=14)\n",
    "plt.tight_layout()\n",
    "plt.show()"
   ]
  },
  {
   "cell_type": "markdown",
   "id": "5727c6aa",
   "metadata": {},
   "source": [
    " Comments: Looked at the data types of all variables, especially numerical variables as they are required for clustering. Excluded the variables Kommun_code= ID, Year (all 2010 and it's unnecessary), Population_University (as it is similar as Percent_University), Productivity (derived from Revenue) and SalesIndex (Will be higher where IKEA store is present and is highly correlated with Revenue). Including variables: Revenue, Population, Percent_University, Infrast, Border. Correlation heatmap shows Revenue, Population are highly correlated both are still retained as PCA balances out correlated variables in loadings.  Percent_University and Infrast show low correlation with almost all variables. Border variable shows negative correlation with all variables."
   ]
  },
  {
   "cell_type": "markdown",
   "id": "62a22779",
   "metadata": {},
   "source": [
    "#### Transforming Data (Standardizing Data)"
   ]
  },
  {
   "cell_type": "code",
   "execution_count": 101,
   "id": "b1c1714d",
   "metadata": {},
   "outputs": [
    {
     "data": {
      "application/vnd.microsoft.datawrangler.viewer.v0+json": {
       "columns": [
        {
         "name": "index",
         "rawType": "int64",
         "type": "integer"
        },
        {
         "name": "Kommun_code",
         "rawType": "int64",
         "type": "integer"
        },
        {
         "name": "Year",
         "rawType": "int64",
         "type": "integer"
        },
        {
         "name": "Kommun_name",
         "rawType": "object",
         "type": "string"
        },
        {
         "name": "Revenue",
         "rawType": "float64",
         "type": "float"
        },
        {
         "name": "Employee",
         "rawType": "int64",
         "type": "integer"
        },
        {
         "name": "Population",
         "rawType": "float64",
         "type": "float"
        },
        {
         "name": "Population_University",
         "rawType": "int64",
         "type": "integer"
        },
        {
         "name": "Percent_University",
         "rawType": "float64",
         "type": "float"
        },
        {
         "name": "Productivity",
         "rawType": "float64",
         "type": "float"
        },
        {
         "name": "SalesIndex",
         "rawType": "float64",
         "type": "float"
        },
        {
         "name": "Infrast",
         "rawType": "float64",
         "type": "float"
        },
        {
         "name": "Border",
         "rawType": "float64",
         "type": "float"
        }
       ],
       "ref": "f1eb8ee3-0504-409a-87ec-1107ffca5ffa",
       "rows": [
        [
         "0",
         "2583",
         "2010",
         "Haparanda",
         "0.01718440116466454",
         "276",
         "-0.36696822680796903",
         "719",
         "-0.6390045496617477",
         "195.74174",
         "111.075774",
         "-0.2253029545296664",
         "4.987484335815"
        ],
        [
         "1",
         "880",
         "2010",
         "Kalmar",
         "1.0259732606673333",
         "1621",
         "0.4237302926297507",
         "8716",
         "1.0155968866755631",
         "117.17365",
         "390.516869",
         "-0.2253029545296664",
         "-0.20050188284683412"
        ],
        [
         "2",
         "1780",
         "2010",
         "Karlstad",
         "1.3123919265290793",
         "1910",
         "0.7675213806360897",
         "13308",
         "1.4197454179896407",
         "119.64794",
         "469.856708",
         "-0.2253029545296664",
         "-0.20050188284683412"
        ],
        [
         "3",
         "114",
         "2010",
         "Upplands Väsby",
         "0.12431242164282405",
         "708",
         "0.07112635434231808",
         "4419",
         "0.36922346759628366",
         "96.69215",
         "140.750935",
         "-0.2253029545296664",
         "-0.20050188284683412"
        ],
        [
         "4",
         "115",
         "2010",
         "Vallentuna",
         "-0.32019446888287256",
         "99",
         "-0.06638708329209467",
         "3843",
         "0.7415872989147659",
         "86.56347",
         "17.619627",
         "-0.2253029545296664",
         "-0.20050188284683412"
        ]
       ],
       "shape": {
        "columns": 12,
        "rows": 5
       }
      },
      "text/html": [
       "<div>\n",
       "<style scoped>\n",
       "    .dataframe tbody tr th:only-of-type {\n",
       "        vertical-align: middle;\n",
       "    }\n",
       "\n",
       "    .dataframe tbody tr th {\n",
       "        vertical-align: top;\n",
       "    }\n",
       "\n",
       "    .dataframe thead th {\n",
       "        text-align: right;\n",
       "    }\n",
       "</style>\n",
       "<table border=\"1\" class=\"dataframe\">\n",
       "  <thead>\n",
       "    <tr style=\"text-align: right;\">\n",
       "      <th></th>\n",
       "      <th>Kommun_code</th>\n",
       "      <th>Year</th>\n",
       "      <th>Kommun_name</th>\n",
       "      <th>Revenue</th>\n",
       "      <th>Employee</th>\n",
       "      <th>Population</th>\n",
       "      <th>Population_University</th>\n",
       "      <th>Percent_University</th>\n",
       "      <th>Productivity</th>\n",
       "      <th>SalesIndex</th>\n",
       "      <th>Infrast</th>\n",
       "      <th>Border</th>\n",
       "    </tr>\n",
       "  </thead>\n",
       "  <tbody>\n",
       "    <tr>\n",
       "      <th>0</th>\n",
       "      <td>2583</td>\n",
       "      <td>2010</td>\n",
       "      <td>Haparanda</td>\n",
       "      <td>0.017184</td>\n",
       "      <td>276</td>\n",
       "      <td>-0.366968</td>\n",
       "      <td>719</td>\n",
       "      <td>-0.639005</td>\n",
       "      <td>195.74174</td>\n",
       "      <td>111.075774</td>\n",
       "      <td>-0.225303</td>\n",
       "      <td>4.987484</td>\n",
       "    </tr>\n",
       "    <tr>\n",
       "      <th>1</th>\n",
       "      <td>880</td>\n",
       "      <td>2010</td>\n",
       "      <td>Kalmar</td>\n",
       "      <td>1.025973</td>\n",
       "      <td>1621</td>\n",
       "      <td>0.423730</td>\n",
       "      <td>8716</td>\n",
       "      <td>1.015597</td>\n",
       "      <td>117.17365</td>\n",
       "      <td>390.516869</td>\n",
       "      <td>-0.225303</td>\n",
       "      <td>-0.200502</td>\n",
       "    </tr>\n",
       "    <tr>\n",
       "      <th>2</th>\n",
       "      <td>1780</td>\n",
       "      <td>2010</td>\n",
       "      <td>Karlstad</td>\n",
       "      <td>1.312392</td>\n",
       "      <td>1910</td>\n",
       "      <td>0.767521</td>\n",
       "      <td>13308</td>\n",
       "      <td>1.419745</td>\n",
       "      <td>119.64794</td>\n",
       "      <td>469.856708</td>\n",
       "      <td>-0.225303</td>\n",
       "      <td>-0.200502</td>\n",
       "    </tr>\n",
       "    <tr>\n",
       "      <th>3</th>\n",
       "      <td>114</td>\n",
       "      <td>2010</td>\n",
       "      <td>Upplands Väsby</td>\n",
       "      <td>0.124312</td>\n",
       "      <td>708</td>\n",
       "      <td>0.071126</td>\n",
       "      <td>4419</td>\n",
       "      <td>0.369223</td>\n",
       "      <td>96.69215</td>\n",
       "      <td>140.750935</td>\n",
       "      <td>-0.225303</td>\n",
       "      <td>-0.200502</td>\n",
       "    </tr>\n",
       "    <tr>\n",
       "      <th>4</th>\n",
       "      <td>115</td>\n",
       "      <td>2010</td>\n",
       "      <td>Vallentuna</td>\n",
       "      <td>-0.320194</td>\n",
       "      <td>99</td>\n",
       "      <td>-0.066387</td>\n",
       "      <td>3843</td>\n",
       "      <td>0.741587</td>\n",
       "      <td>86.56347</td>\n",
       "      <td>17.619627</td>\n",
       "      <td>-0.225303</td>\n",
       "      <td>-0.200502</td>\n",
       "    </tr>\n",
       "  </tbody>\n",
       "</table>\n",
       "</div>"
      ],
      "text/plain": [
       "   Kommun_code  Year     Kommun_name   Revenue  Employee  Population  \\\n",
       "0         2583  2010       Haparanda  0.017184       276   -0.366968   \n",
       "1          880  2010          Kalmar  1.025973      1621    0.423730   \n",
       "2         1780  2010        Karlstad  1.312392      1910    0.767521   \n",
       "3          114  2010  Upplands Väsby  0.124312       708    0.071126   \n",
       "4          115  2010      Vallentuna -0.320194        99   -0.066387   \n",
       "\n",
       "   Population_University  Percent_University  Productivity  SalesIndex  \\\n",
       "0                    719           -0.639005     195.74174  111.075774   \n",
       "1                   8716            1.015597     117.17365  390.516869   \n",
       "2                  13308            1.419745     119.64794  469.856708   \n",
       "3                   4419            0.369223      96.69215  140.750935   \n",
       "4                   3843            0.741587      86.56347   17.619627   \n",
       "\n",
       "    Infrast    Border  \n",
       "0 -0.225303  4.987484  \n",
       "1 -0.225303 -0.200502  \n",
       "2 -0.225303 -0.200502  \n",
       "3 -0.225303 -0.200502  \n",
       "4 -0.225303 -0.200502  "
      ]
     },
     "execution_count": 101,
     "metadata": {},
     "output_type": "execute_result"
    }
   ],
   "source": [
    "# Initialize and apply scaler\n",
    "scaler = StandardScaler()\n",
    "ikea_data_scaled = ikea_data.copy()\n",
    "ikea_data_scaled[num_cols] = scaler.fit_transform(ikea_data_scaled[num_cols])\n",
    "\n",
    "ikea_data_scaled.head()"
   ]
  },
  {
   "cell_type": "markdown",
   "id": "e073fec8",
   "metadata": {},
   "source": [
    "#### Choosing the number of clusters using Elbow and Silhouette Method"
   ]
  },
  {
   "cell_type": "code",
   "execution_count": 102,
   "id": "eae7a133",
   "metadata": {},
   "outputs": [
    {
     "data": {
      "image/png": "[encoded data removed]",
      "text/plain": [
       "<Figure size 1000x400 with 2 Axes>"
      ]
     },
     "metadata": {},
     "output_type": "display_data"
    }
   ],
   "source": [
    "# Clustering Steps \n",
    "\n",
    "# Elbow & Silhouette Analysis\n",
    "inertias = []             # For Elbow method\n",
    "silhouette_scores = []    # For silhouette analysis\n",
    "K_range = range(1, 11)    # clusters from 1 to 10 for ELbow Method\n",
    "SL_range = range(2, 11)    # clusters from 2 to 10 for Silhouette Method\n",
    "\n",
    "# Loop to calculate metrics for each k for all numerical columns\n",
    "for k in K_range:\n",
    "    kmeans = KMeans(n_clusters=k, random_state=19, n_init=10)\n",
    "    labels = kmeans.fit_predict(ikea_data_scaled[num_cols])  # Apply to scaled features\n",
    "    inertias.append(kmeans.inertia_)                  # Save inertia (WCSS)\n",
    "\n",
    "for k in SL_range:\n",
    "    kmeans = KMeans(n_clusters=k, random_state=19, n_init=10)\n",
    "    labels = kmeans.fit_predict(ikea_data_scaled[num_cols])  # Apply to scaled features\n",
    "    score = silhouette_score(ikea_data_scaled[num_cols], labels)\n",
    "    silhouette_scores.append(score)  # Save silhouette score\n",
    "\n",
    "# Plot the results\n",
    "plt.figure(figsize=(10, 4))\n",
    "\n",
    "# Plot Elbow method\n",
    "plt.subplot(1, 2, 1)\n",
    "plt.plot(K_range, inertias, marker='o', color='orange')\n",
    "plt.title('Elbow Method')\n",
    "plt.xlabel('Number of Clusters (k)')\n",
    "plt.ylabel('Inertia (WCSS)')\n",
    "\n",
    "# Plot Silhouette scores\n",
    "plt.subplot(1, 2, 2)\n",
    "plt.plot(SL_range, silhouette_scores, marker='s', color='green')\n",
    "plt.title('Silhouette Score')\n",
    "plt.xlabel('Number of Clusters (k)')\n",
    "plt.ylabel('Silhouette Score')\n",
    "\n",
    "plt.tight_layout()\n",
    "plt.show()\n"
   ]
  },
  {
   "cell_type": "markdown",
   "id": "9dc6a87c",
   "metadata": {},
   "source": [
    "Comments: Standardized the data for clustering. Applied Elbow and Silhouette Method to find the optimal number of clusters needed. Elbow Method shows optimal number k=4 and Silhouette Method shows k=2. Hence I tried for both options to see which ones seems better in PCA. "
   ]
  },
  {
   "cell_type": "markdown",
   "id": "2e133c2b",
   "metadata": {},
   "source": [
    "#### Checking for k=2, Reducing Dimensionality of data and Visualizing data using PCA"
   ]
  },
  {
   "cell_type": "code",
   "execution_count": 103,
   "id": "bf45b28c",
   "metadata": {},
   "outputs": [
    {
     "data": {
      "application/vnd.microsoft.datawrangler.viewer.v0+json": {
       "columns": [
        {
         "name": "Cluster",
         "rawType": "int32",
         "type": "integer"
        },
        {
         "name": "Revenue",
         "rawType": "float64",
         "type": "float"
        },
        {
         "name": "Population",
         "rawType": "float64",
         "type": "float"
        },
        {
         "name": "Percent_University",
         "rawType": "float64",
         "type": "float"
        },
        {
         "name": "Infrast",
         "rawType": "float64",
         "type": "float"
        },
        {
         "name": "Border",
         "rawType": "float64",
         "type": "float"
        }
       ],
       "ref": "e4ee11dd-5dc7-458e-930f-b08e108bb2e7",
       "rows": [
        [
         "0",
         "250.5",
         "16379.5",
         "0.09",
         "0.0",
         "0.0"
        ],
        [
         "1",
         "32897.0",
         "847073.0",
         "0.23",
         "1.0",
         "0.0"
        ]
       ],
       "shape": {
        "columns": 5,
        "rows": 2
       }
      },
      "text/html": [
       "<div>\n",
       "<style scoped>\n",
       "    .dataframe tbody tr th:only-of-type {\n",
       "        vertical-align: middle;\n",
       "    }\n",
       "\n",
       "    .dataframe tbody tr th {\n",
       "        vertical-align: top;\n",
       "    }\n",
       "\n",
       "    .dataframe thead th {\n",
       "        text-align: right;\n",
       "    }\n",
       "</style>\n",
       "<table border=\"1\" class=\"dataframe\">\n",
       "  <thead>\n",
       "    <tr style=\"text-align: right;\">\n",
       "      <th></th>\n",
       "      <th>Revenue</th>\n",
       "      <th>Population</th>\n",
       "      <th>Percent_University</th>\n",
       "      <th>Infrast</th>\n",
       "      <th>Border</th>\n",
       "    </tr>\n",
       "    <tr>\n",
       "      <th>Cluster</th>\n",
       "      <th></th>\n",
       "      <th></th>\n",
       "      <th></th>\n",
       "      <th></th>\n",
       "      <th></th>\n",
       "    </tr>\n",
       "  </thead>\n",
       "  <tbody>\n",
       "    <tr>\n",
       "      <th>0</th>\n",
       "      <td>250.5</td>\n",
       "      <td>16379.5</td>\n",
       "      <td>0.09</td>\n",
       "      <td>0.0</td>\n",
       "      <td>0.0</td>\n",
       "    </tr>\n",
       "    <tr>\n",
       "      <th>1</th>\n",
       "      <td>32897.0</td>\n",
       "      <td>847073.0</td>\n",
       "      <td>0.23</td>\n",
       "      <td>1.0</td>\n",
       "      <td>0.0</td>\n",
       "    </tr>\n",
       "  </tbody>\n",
       "</table>\n",
       "</div>"
      ],
      "text/plain": [
       "         Revenue  Population  Percent_University  Infrast  Border\n",
       "Cluster                                                          \n",
       "0          250.5     16379.5                0.09      0.0     0.0\n",
       "1        32897.0    847073.0                0.23      1.0     0.0"
      ]
     },
     "metadata": {},
     "output_type": "display_data"
    }
   ],
   "source": [
    "# Fit the KMeans model for number of clusters = 2\n",
    "kmeans_model1 = KMeans(n_clusters=2, random_state=12, n_init=10)\n",
    "ikea_data_1 = ikea_data.copy()\n",
    "ikea_data_1['Cluster'] = kmeans_model1.fit_predict(ikea_data_scaled[num_cols])\n",
    "\n",
    "# Get cluster-wise summary (median of features for each cluster)\n",
    "cluster_summary1 = ikea_data_1.groupby('Cluster')[num_cols].median().round(2)\n",
    "# Displaying cluster summary (k=2)\n",
    "display(cluster_summary1)"
   ]
  },
  {
   "cell_type": "code",
   "execution_count": 104,
   "id": "0f4a60ea",
   "metadata": {},
   "outputs": [
    {
     "data": {
      "application/vnd.plotly.v1+json": {
       "config": {
        "plotlyServerURL": "https://plot.ly"
       },
       "data": [
        {
         "hovertemplate": "<b>%{hovertext}</b><br><br>Cluster_Label=Cluster 0<br>PCA1=%{x}<br>PCA2=%{y}<extra></extra>",
         "hovertext": [
          "Haparanda",
          "Kalmar",
          "Karlstad",
          "Upplands Väsby",
          "Vallentuna",
          "Österåker",
          "Värmdö",
          "Järfälla",
          "Ekerö",
          "Huddinge",
          "Botkyrka",
          "Salem",
          "Haninge",
          "Tyresö",
          "Upplands-Bro",
          "Nykvarn",
          "Täby",
          "Danderyd",
          "Sollentuna",
          "Södertälje",
          "Nacka",
          "Sundbyberg",
          "Solna",
          "Lidingö",
          "Vaxholm",
          "Norrtälje",
          "Sigtuna",
          "Nynäshamn",
          "Håbo",
          "Älvkarleby",
          "Heby",
          "Tierp",
          "Uppsala",
          "Enköping",
          "Östhammar",
          "Vingåker",
          "Gnesta",
          "Nyköping",
          "Oxelösund",
          "Flen",
          "Katrineholm",
          "Eskilstuna",
          "Strängnäs",
          "Trosa",
          "Ödeshög",
          "Ydre",
          "Kinda",
          "Boxholm",
          "Åtvidaberg",
          "Finspång",
          "Valdemarsvik",
          "Linköping",
          "Norrköping",
          "Söderköping",
          "Motala",
          "Vadstena",
          "Mjölby",
          "Aneby",
          "Gnosjö",
          "Mullsjö",
          "Habo",
          "Gislaved",
          "Vaggeryd",
          "Jönköping",
          "Nässjö",
          "Värnamo",
          "Sävsjö",
          "Vetlanda",
          "Eksjö",
          "Tranås",
          "Uppvidinge",
          "Lessebo",
          "Tingsryd",
          "Alvesta",
          "Älmhult",
          "Markaryd",
          "Växjö",
          "Ljungby",
          "Högsby",
          "Torsås",
          "Mörbylånga",
          "Hultsfred",
          "Mönsterås",
          "Emmaboda",
          "Nybro",
          "Oskarshamn",
          "Västervik",
          "Vimmerby",
          "Borgholm",
          "Gotland",
          "Olofström",
          "Karlskrona",
          "Ronneby",
          "Karlshamn",
          "Sölvesborg",
          "Svalöv",
          "Staffanstorp",
          "Burlöv",
          "Vellinge",
          "Östra Göinge",
          "Örkelljunga",
          "Bjuv",
          "Kävlinge",
          "Lomma",
          "Svedala",
          "Skurup",
          "Sjöbo",
          "Hörby",
          "Höör",
          "Tomelilla",
          "Bromölla",
          "Osby",
          "Perstorp",
          "Klippan",
          "Åstorp",
          "Båstad",
          "Malmö",
          "Lund",
          "Landskrona",
          "Helsingborg",
          "Höganäs",
          "Eslöv",
          "Ystad",
          "Trelleborg",
          "Kristianstad",
          "Simrishamn",
          "Ängelholm",
          "Hässleholm",
          "Hylte",
          "Halmstad",
          "Laholm",
          "Falkenberg",
          "Varberg",
          "Kungsbacka",
          "Härryda",
          "Partille",
          "Öckerö",
          "Stenungsund",
          "Tjörn",
          "Orust",
          "Sotenäs",
          "Munkedal",
          "Tanum",
          "Dals-Ed",
          "Färgelanda",
          "Ale",
          "Lerum",
          "Vårgårda",
          "Bollebygd",
          "Grästorp",
          "Essunga",
          "Karlsborg",
          "Gullspång",
          "Tranemo",
          "Bengtsfors",
          "Mellerud",
          "Lilla Edet",
          "Mark",
          "Svenljunga",
          "Herrljunga",
          "Vara",
          "Götene",
          "Tibro",
          "Töreboda",
          "Mölndal",
          "Kungälv",
          "Lysekil",
          "Uddevalla",
          "Strömstad",
          "Vänersborg",
          "Trollhättan",
          "Alingsås",
          "Borås",
          "Ulricehamn",
          "Åmål",
          "Mariestad",
          "Lidköping",
          "Skara",
          "Skövde",
          "Hjo",
          "Tidaholm",
          "Falköping",
          "Kil",
          "Eda",
          "Torsby",
          "Storfors",
          "Hammarö",
          "Munkfors",
          "Forshaga",
          "Grums",
          "Årjäng",
          "Sunne",
          "Kristinehamn",
          "Filipstad",
          "Hagfors",
          "Arvika",
          "Säffle",
          "Lekeberg",
          "Laxå",
          "Hallsberg",
          "Degerfors",
          "Hällefors",
          "Ljusnarsberg",
          "Örebro",
          "Kumla",
          "Askersund"
         ],
         "legendgroup": "Cluster 0",
         "marker": {
          "color": "#1f78b4",
          "line": {
           "color": "black",
           "width": 1
          },
          "opacity": 0.9,
          "size": 10,
          "symbol": "circle"
         },
         "mode": "markers",
         "name": "Cluster 0",
         "orientation": "v",
         "showlegend": true,
         "type": "scatter",
         "x": {
          "bdata": "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",
          "dtype": "f8"
         },
         "xaxis": "x",
         "y": {
          "bdata": "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",
          "dtype": "f8"
         },
         "yaxis": "y"
        },
        {
         "hovertemplate": "<b>%{hovertext}</b><br><br>Cluster_Label=Cluster 1<br>PCA1=%{x}<br>PCA2=%{y}<extra></extra>",
         "hovertext": [
          "Stockholm"
         ],
         "legendgroup": "Cluster 1",
         "marker": {
          "color": "#33a02c",
          "line": {
           "color": "black",
           "width": 1
          },
          "opacity": 0.9,
          "size": 10,
          "symbol": "circle"
         },
         "mode": "markers",
         "name": "Cluster 1",
         "orientation": "v",
         "showlegend": true,
         "type": "scatter",
         "x": {
          "bdata": "BxXnD1k0MUA=",
          "dtype": "f8"
         },
         "xaxis": "x",
         "y": {
          "bdata": "J8UXtk6aAUA=",
          "dtype": "f8"
         },
         "yaxis": "y"
        }
       ],
       "layout": {
        "font": {
         "size": 12
        },
        "height": 600,
        "legend": {
         "orientation": "h",
         "title": {
          "text": "Cluster"
         },
         "tracegroupgap": 0,
         "x": 0.5,
         "xanchor": "center",
         "y": -0.25,
         "yanchor": "bottom"
        },
        "template": {
         "data": {
          "bar": [
           {
            "error_x": {
             "color": "#2a3f5f"
            },
            "error_y": {
             "color": "#2a3f5f"
            },
            "marker": {
             "line": {
              "color": "white",
              "width": 0.5
             },
             "pattern": {
              "fillmode": "overlay",
              "size": 10,
              "solidity": 0.2
             }
            },
            "type": "bar"
           }
          ],
          "barpolar": [
           {
            "marker": {
             "line": {
              "color": "white",
              "width": 0.5
             },
             "pattern": {
              "fillmode": "overlay",
              "size": 10,
              "solidity": 0.2
             }
            },
            "type": "barpolar"
           }
          ],
          "carpet": [
           {
            "aaxis": {
             "endlinecolor": "#2a3f5f",
             "gridcolor": "#C8D4E3",
             "linecolor": "#C8D4E3",
             "minorgridcolor": "#C8D4E3",
             "startlinecolor": "#2a3f5f"
            },
            "baxis": {
             "endlinecolor": "#2a3f5f",
             "gridcolor": "#C8D4E3",
             "linecolor": "#C8D4E3",
             "minorgridcolor": "#C8D4E3",
             "startlinecolor": "#2a3f5f"
            },
            "type": "carpet"
           }
          ],
          "choropleth": [
           {
            "colorbar": {
             "outlinewidth": 0,
             "ticks": ""
            },
            "type": "choropleth"
           }
          ],
          "contour": [
           {
            "colorbar": {
             "outlinewidth": 0,
             "ticks": ""
            },
            "colorscale": [
             [
              0,
              "#0d0887"
             ],
             [
              0.1111111111111111,
              "#46039f"
             ],
             [
              0.2222222222222222,
              "#7201a8"
             ],
             [
              0.3333333333333333,
              "#9c179e"
             ],
             [
              0.4444444444444444,
              "#bd3786"
             ],
             [
              0.5555555555555556,
              "#d8576b"
             ],
             [
              0.6666666666666666,
              "#ed7953"
             ],
             [
              0.7777777777777778,
              "#fb9f3a"
             ],
             [
              0.8888888888888888,
              "#fdca26"
             ],
             [
              1,
              "#f0f921"
             ]
            ],
            "type": "contour"
           }
          ],
          "contourcarpet": [
           {
            "colorbar": {
             "outlinewidth": 0,
             "ticks": ""
            },
            "type": "contourcarpet"
           }
          ],
          "heatmap": [
           {
            "colorbar": {
             "outlinewidth": 0,
             "ticks": ""
            },
            "colorscale": [
             [
              0,
              "#0d0887"
             ],
             [
              0.1111111111111111,
              "#46039f"
             ],
             [
              0.2222222222222222,
              "#7201a8"
             ],
             [
              0.3333333333333333,
              "#9c179e"
             ],
             [
              0.4444444444444444,
              "#bd3786"
             ],
             [
              0.5555555555555556,
              "#d8576b"
             ],
             [
              0.6666666666666666,
              "#ed7953"
             ],
             [
              0.7777777777777778,
              "#fb9f3a"
             ],
             [
              0.8888888888888888,
              "#fdca26"
             ],
             [
              1,
              "#f0f921"
             ]
            ],
            "type": "heatmap"
           }
          ],
          "histogram": [
           {
            "marker": {
             "pattern": {
              "fillmode": "overlay",
              "size": 10,
              "solidity": 0.2
             }
            },
            "type": "histogram"
           }
          ],
          "histogram2d": [
           {
            "colorbar": {
             "outlinewidth": 0,
             "ticks": ""
            },
            "colorscale": [
             [
              0,
              "#0d0887"
             ],
             [
              0.1111111111111111,
              "#46039f"
             ],
             [
              0.2222222222222222,
              "#7201a8"
             ],
             [
              0.3333333333333333,
              "#9c179e"
             ],
             [
              0.4444444444444444,
              "#bd3786"
             ],
             [
              0.5555555555555556,
              "#d8576b"
             ],
             [
              0.6666666666666666,
              "#ed7953"
             ],
             [
              0.7777777777777778,
              "#fb9f3a"
             ],
             [
              0.8888888888888888,
              "#fdca26"
             ],
             [
              1,
              "#f0f921"
             ]
            ],
            "type": "histogram2d"
           }
          ],
          "histogram2dcontour": [
           {
            "colorbar": {
             "outlinewidth": 0,
             "ticks": ""
            },
            "colorscale": [
             [
              0,
              "#0d0887"
             ],
             [
              0.1111111111111111,
              "#46039f"
             ],
             [
              0.2222222222222222,
              "#7201a8"
             ],
             [
              0.3333333333333333,
              "#9c179e"
             ],
             [
              0.4444444444444444,
              "#bd3786"
             ],
             [
              0.5555555555555556,
              "#d8576b"
             ],
             [
              0.6666666666666666,
              "#ed7953"
             ],
             [
              0.7777777777777778,
              "#fb9f3a"
             ],
             [
              0.8888888888888888,
              "#fdca26"
             ],
             [
              1,
              "#f0f921"
             ]
            ],
            "type": "histogram2dcontour"
           }
          ],
          "mesh3d": [
           {
            "colorbar": {
             "outlinewidth": 0,
             "ticks": ""
            },
            "type": "mesh3d"
           }
          ],
          "parcoords": [
           {
            "line": {
             "colorbar": {
              "outlinewidth": 0,
              "ticks": ""
             }
            },
            "type": "parcoords"
           }
          ],
          "pie": [
           {
            "automargin": true,
            "type": "pie"
           }
          ],
          "scatter": [
           {
            "fillpattern": {
             "fillmode": "overlay",
             "size": 10,
             "solidity": 0.2
            },
            "type": "scatter"
           }
          ],
          "scatter3d": [
           {
            "line": {
             "colorbar": {
              "outlinewidth": 0,
              "ticks": ""
             }
            },
            "marker": {
             "colorbar": {
              "outlinewidth": 0,
              "ticks": ""
             }
            },
            "type": "scatter3d"
           }
          ],
          "scattercarpet": [
           {
            "marker": {
             "colorbar": {
              "outlinewidth": 0,
              "ticks": ""
             }
            },
            "type": "scattercarpet"
           }
          ],
          "scattergeo": [
           {
            "marker": {
             "colorbar": {
              "outlinewidth": 0,
              "ticks": ""
             }
            },
            "type": "scattergeo"
           }
          ],
          "scattergl": [
           {
            "marker": {
             "colorbar": {
              "outlinewidth": 0,
              "ticks": ""
             }
            },
            "type": "scattergl"
           }
          ],
          "scattermap": [
           {
            "marker": {
             "colorbar": {
              "outlinewidth": 0,
              "ticks": ""
             }
            },
            "type": "scattermap"
           }
          ],
          "scattermapbox": [
           {
            "marker": {
             "colorbar": {
              "outlinewidth": 0,
              "ticks": ""
             }
            },
            "type": "scattermapbox"
           }
          ],
          "scatterpolar": [
           {
            "marker": {
             "colorbar": {
              "outlinewidth": 0,
              "ticks": ""
             }
            },
            "type": "scatterpolar"
           }
          ],
          "scatterpolargl": [
           {
            "marker": {
             "colorbar": {
              "outlinewidth": 0,
              "ticks": ""
             }
            },
            "type": "scatterpolargl"
           }
          ],
          "scatterternary": [
           {
            "marker": {
             "colorbar": {
              "outlinewidth": 0,
              "ticks": ""
             }
            },
            "type": "scatterternary"
           }
          ],
          "surface": [
           {
            "colorbar": {
             "outlinewidth": 0,
             "ticks": ""
            },
            "colorscale": [
             [
              0,
              "#0d0887"
             ],
             [
              0.1111111111111111,
              "#46039f"
             ],
             [
              0.2222222222222222,
              "#7201a8"
             ],
             [
              0.3333333333333333,
              "#9c179e"
             ],
             [
              0.4444444444444444,
              "#bd3786"
             ],
             [
              0.5555555555555556,
              "#d8576b"
             ],
             [
              0.6666666666666666,
              "#ed7953"
             ],
             [
              0.7777777777777778,
              "#fb9f3a"
             ],
             [
              0.8888888888888888,
              "#fdca26"
             ],
             [
              1,
              "#f0f921"
             ]
            ],
            "type": "surface"
           }
          ],
          "table": [
           {
            "cells": {
             "fill": {
              "color": "#EBF0F8"
             },
             "line": {
              "color": "white"
             }
            },
            "header": {
             "fill": {
              "color": "#C8D4E3"
             },
             "line": {
              "color": "white"
             }
            },
            "type": "table"
           }
          ]
         },
         "layout": {
          "annotationdefaults": {
           "arrowcolor": "#2a3f5f",
           "arrowhead": 0,
           "arrowwidth": 1
          },
          "autotypenumbers": "strict",
          "coloraxis": {
           "colorbar": {
            "outlinewidth": 0,
            "ticks": ""
           }
          },
          "colorscale": {
           "diverging": [
            [
             0,
             "#8e0152"
            ],
            [
             0.1,
             "#c51b7d"
            ],
            [
             0.2,
             "#de77ae"
            ],
            [
             0.3,
             "#f1b6da"
            ],
            [
             0.4,
             "#fde0ef"
            ],
            [
             0.5,
             "#f7f7f7"
            ],
            [
             0.6,
             "#e6f5d0"
            ],
            [
             0.7,
             "#b8e186"
            ],
            [
             0.8,
             "#7fbc41"
            ],
            [
             0.9,
             "#4d9221"
            ],
            [
             1,
             "#276419"
            ]
           ],
           "sequential": [
            [
             0,
             "#0d0887"
            ],
            [
             0.1111111111111111,
             "#46039f"
            ],
            [
             0.2222222222222222,
             "#7201a8"
            ],
            [
             0.3333333333333333,
             "#9c179e"
            ],
            [
             0.4444444444444444,
             "#bd3786"
            ],
            [
             0.5555555555555556,
             "#d8576b"
            ],
            [
             0.6666666666666666,
             "#ed7953"
            ],
            [
             0.7777777777777778,
             "#fb9f3a"
            ],
            [
             0.8888888888888888,
             "#fdca26"
            ],
            [
             1,
             "#f0f921"
            ]
           ],
           "sequentialminus": [
            [
             0,
             "#0d0887"
            ],
            [
             0.1111111111111111,
             "#46039f"
            ],
            [
             0.2222222222222222,
             "#7201a8"
            ],
            [
             0.3333333333333333,
             "#9c179e"
            ],
            [
             0.4444444444444444,
             "#bd3786"
            ],
            [
             0.5555555555555556,
             "#d8576b"
            ],
            [
             0.6666666666666666,
             "#ed7953"
            ],
            [
             0.7777777777777778,
             "#fb9f3a"
            ],
            [
             0.8888888888888888,
             "#fdca26"
            ],
            [
             1,
             "#f0f921"
            ]
           ]
          },
          "colorway": [
           "#636efa",
           "#EF553B",
           "#00cc96",
           "#ab63fa",
           "#FFA15A",
           "#19d3f3",
           "#FF6692",
           "#B6E880",
           "#FF97FF",
           "#FECB52"
          ],
          "font": {
           "color": "#2a3f5f"
          },
          "geo": {
           "bgcolor": "white",
           "lakecolor": "white",
           "landcolor": "white",
           "showlakes": true,
           "showland": true,
           "subunitcolor": "#C8D4E3"
          },
          "hoverlabel": {
           "align": "left"
          },
          "hovermode": "closest",
          "mapbox": {
           "style": "light"
          },
          "paper_bgcolor": "white",
          "plot_bgcolor": "white",
          "polar": {
           "angularaxis": {
            "gridcolor": "#EBF0F8",
            "linecolor": "#EBF0F8",
            "ticks": ""
           },
           "bgcolor": "white",
           "radialaxis": {
            "gridcolor": "#EBF0F8",
            "linecolor": "#EBF0F8",
            "ticks": ""
           }
          },
          "scene": {
           "xaxis": {
            "backgroundcolor": "white",
            "gridcolor": "#DFE8F3",
            "gridwidth": 2,
            "linecolor": "#EBF0F8",
            "showbackground": true,
            "ticks": "",
            "zerolinecolor": "#EBF0F8"
           },
           "yaxis": {
            "backgroundcolor": "white",
            "gridcolor": "#DFE8F3",
            "gridwidth": 2,
            "linecolor": "#EBF0F8",
            "showbackground": true,
            "ticks": "",
            "zerolinecolor": "#EBF0F8"
           },
           "zaxis": {
            "backgroundcolor": "white",
            "gridcolor": "#DFE8F3",
            "gridwidth": 2,
            "linecolor": "#EBF0F8",
            "showbackground": true,
            "ticks": "",
            "zerolinecolor": "#EBF0F8"
           }
          },
          "shapedefaults": {
           "line": {
            "color": "#2a3f5f"
           }
          },
          "ternary": {
           "aaxis": {
            "gridcolor": "#DFE8F3",
            "linecolor": "#A2B1C6",
            "ticks": ""
           },
           "baxis": {
            "gridcolor": "#DFE8F3",
            "linecolor": "#A2B1C6",
            "ticks": ""
           },
           "bgcolor": "white",
           "caxis": {
            "gridcolor": "#DFE8F3",
            "linecolor": "#A2B1C6",
            "ticks": ""
           }
          },
          "title": {
           "x": 0.05
          },
          "xaxis": {
           "automargin": true,
           "gridcolor": "#EBF0F8",
           "linecolor": "#EBF0F8",
           "ticks": "",
           "title": {
            "standoff": 15
           },
           "zerolinecolor": "#EBF0F8",
           "zerolinewidth": 2
          },
          "yaxis": {
           "automargin": true,
           "gridcolor": "#EBF0F8",
           "linecolor": "#EBF0F8",
           "ticks": "",
           "title": {
            "standoff": 15
           },
           "zerolinecolor": "#EBF0F8",
           "zerolinewidth": 2
          }
         }
        },
        "title": {
         "text": "PCA Cluster Plot by Kommun"
        },
        "width": 900,
        "xaxis": {
         "anchor": "y",
         "domain": [
          0,
          1
         ],
         "title": {
          "text": "Principal Component 1"
         }
        },
        "yaxis": {
         "anchor": "x",
         "domain": [
          0,
          1
         ],
         "title": {
          "text": "Principal Component 2"
         }
        }
       }
      }
     },
     "metadata": {},
     "output_type": "display_data"
    }
   ],
   "source": [
    "\n",
    "# Clustering Visualization using PCA (Principal Component Analysis)\n",
    "\n",
    "# Using scaled DataFrame\n",
    "df_viz = ikea_data_1.copy() \n",
    "pca = PCA(n_components=2)\n",
    "pca_result = pca.fit_transform(ikea_data_scaled[num_cols])\n",
    "\n",
    "# Adding PCA components to DataFrame\n",
    "df_viz['PCA1'] = pca_result[:, 0]\n",
    "df_viz['PCA2'] = pca_result[:, 1]\n",
    "\n",
    "# Ensuring 'Cluster' is treated as categorical \n",
    "df_viz['Cluster'] = df_viz['Cluster'].astype(str)  # Critical for color mapping\n",
    "\n",
    "# Cluster labels\n",
    "cluster_labels = {\n",
    "    '0': 'Cluster 0',\n",
    "    '1': 'Cluster 1'\n",
    "    \n",
    "}\n",
    "df_viz['Cluster_Label'] = df_viz['Cluster'].map(cluster_labels)\n",
    "\n",
    "label_order = [\n",
    "    'Cluster 0',\n",
    "    'Cluster 1'\n",
    "]\n",
    "\n",
    "# Custom colors, with Cluster 0 set to blue\n",
    "custom_colors = ['#1f78b4',   \n",
    "                 '#33a02c']   \n",
    "                  \n",
    "                  \n",
    "# Creating the interactive PCA plot\n",
    "fig = px.scatter(\n",
    "    df_viz,\n",
    "    x='PCA1',\n",
    "    y='PCA2',\n",
    "    color='Cluster_Label',\n",
    "    category_orders={\"Cluster_Label\": label_order},\n",
    "    color_discrete_sequence=custom_colors,  \n",
    "    hover_name='Kommun_name',\n",
    "    title='PCA Cluster Plot by Kommun',\n",
    "    width=900,\n",
    "    height=600,\n",
    "    opacity=0.9  # Slightly transparent for overlap clarity\n",
    ")\n",
    "\n",
    "# Enhance marker visibility\n",
    "fig.update_traces(\n",
    "    marker=dict(\n",
    "        size=10,\n",
    "        line=dict(width=1, color='black'),  # Black borders for contrast\n",
    "        opacity=0.9\n",
    "    )\n",
    ")\n",
    "\n",
    "# Improve layout readability\n",
    "fig.update_layout(\n",
    "    xaxis_title='Principal Component 1',\n",
    "    yaxis_title='Principal Component 2',\n",
    "    legend_title='Cluster',\n",
    "    template='plotly_white',\n",
    "    font=dict(size=12),\n",
    "    legend=dict(\n",
    "        orientation=\"h\",  # Horizontal legend\n",
    "        yanchor=\"bottom\",\n",
    "        y=-0.25,\n",
    "        xanchor=\"center\",\n",
    "        x=0.5\n",
    "    )\n",
    ")\n",
    "\n",
    "# Displaying plot\n",
    "fig.show()"
   ]
  },
  {
   "cell_type": "markdown",
   "id": "c564b93b",
   "metadata": {},
   "source": [
    "Comments: k=2 doesn't seem like optimal number of clusters as it clearly singles out the outlier- Stockholm but doesn't form any other clusters. Hence this might not be helpful to find locations for potential IKEA stores"
   ]
  },
  {
   "cell_type": "markdown",
   "id": "e3977a2f",
   "metadata": {},
   "source": [
    "#### Checking for k=4, Reducing Dimensionality of data and Visualizing data using PCA"
   ]
  },
  {
   "cell_type": "code",
   "execution_count": 105,
   "id": "97df5a93",
   "metadata": {},
   "outputs": [
    {
     "data": {
      "application/vnd.microsoft.datawrangler.viewer.v0+json": {
       "columns": [
        {
         "name": "Cluster",
         "rawType": "int32",
         "type": "integer"
        },
        {
         "name": "Revenue",
         "rawType": "float64",
         "type": "float"
        },
        {
         "name": "Population",
         "rawType": "float64",
         "type": "float"
        },
        {
         "name": "Percent_University",
         "rawType": "float64",
         "type": "float"
        },
        {
         "name": "Infrast",
         "rawType": "float64",
         "type": "float"
        },
        {
         "name": "Border",
         "rawType": "float64",
         "type": "float"
        }
       ],
       "ref": "6d5c63e2-e795-44d6-91a2-7ebdf6cb00d4",
       "rows": [
        [
         "0",
         "236.0",
         "16701.0",
         "0.09",
         "0.0",
         "0.0"
        ],
        [
         "1",
         "32897.0",
         "847073.0",
         "0.23",
         "1.0",
         "0.0"
        ],
        [
         "2",
         "474.0",
         "10933.5",
         "0.07",
         "0.0",
         "1.0"
        ],
        [
         "3",
         "748.0",
         "31143.0",
         "0.1",
         "1.0",
         "0.0"
        ]
       ],
       "shape": {
        "columns": 5,
        "rows": 4
       }
      },
      "text/html": [
       "<div>\n",
       "<style scoped>\n",
       "    .dataframe tbody tr th:only-of-type {\n",
       "        vertical-align: middle;\n",
       "    }\n",
       "\n",
       "    .dataframe tbody tr th {\n",
       "        vertical-align: top;\n",
       "    }\n",
       "\n",
       "    .dataframe thead th {\n",
       "        text-align: right;\n",
       "    }\n",
       "</style>\n",
       "<table border=\"1\" class=\"dataframe\">\n",
       "  <thead>\n",
       "    <tr style=\"text-align: right;\">\n",
       "      <th></th>\n",
       "      <th>Revenue</th>\n",
       "      <th>Population</th>\n",
       "      <th>Percent_University</th>\n",
       "      <th>Infrast</th>\n",
       "      <th>Border</th>\n",
       "    </tr>\n",
       "    <tr>\n",
       "      <th>Cluster</th>\n",
       "      <th></th>\n",
       "      <th></th>\n",
       "      <th></th>\n",
       "      <th></th>\n",
       "      <th></th>\n",
       "    </tr>\n",
       "  </thead>\n",
       "  <tbody>\n",
       "    <tr>\n",
       "      <th>0</th>\n",
       "      <td>236.0</td>\n",
       "      <td>16701.0</td>\n",
       "      <td>0.09</td>\n",
       "      <td>0.0</td>\n",
       "      <td>0.0</td>\n",
       "    </tr>\n",
       "    <tr>\n",
       "      <th>1</th>\n",
       "      <td>32897.0</td>\n",
       "      <td>847073.0</td>\n",
       "      <td>0.23</td>\n",
       "      <td>1.0</td>\n",
       "      <td>0.0</td>\n",
       "    </tr>\n",
       "    <tr>\n",
       "      <th>2</th>\n",
       "      <td>474.0</td>\n",
       "      <td>10933.5</td>\n",
       "      <td>0.07</td>\n",
       "      <td>0.0</td>\n",
       "      <td>1.0</td>\n",
       "    </tr>\n",
       "    <tr>\n",
       "      <th>3</th>\n",
       "      <td>748.0</td>\n",
       "      <td>31143.0</td>\n",
       "      <td>0.10</td>\n",
       "      <td>1.0</td>\n",
       "      <td>0.0</td>\n",
       "    </tr>\n",
       "  </tbody>\n",
       "</table>\n",
       "</div>"
      ],
      "text/plain": [
       "         Revenue  Population  Percent_University  Infrast  Border\n",
       "Cluster                                                          \n",
       "0          236.0     16701.0                0.09      0.0     0.0\n",
       "1        32897.0    847073.0                0.23      1.0     0.0\n",
       "2          474.0     10933.5                0.07      0.0     1.0\n",
       "3          748.0     31143.0                0.10      1.0     0.0"
      ]
     },
     "metadata": {},
     "output_type": "display_data"
    }
   ],
   "source": [
    "# Fit the KMeans model for number of clusters = 4\n",
    "kmeans_model2 = KMeans(n_clusters=4, random_state=12, n_init=10)\n",
    "ikea_data_2 = ikea_data.copy()\n",
    "ikea_data_2['Cluster'] = kmeans_model2.fit_predict(ikea_data_scaled[num_cols])\n",
    "\n",
    "# Get cluster-wise summary (median of features for each cluster)\n",
    "cluster_summary2 = ikea_data_2.groupby('Cluster')[num_cols].median().round(2)\n",
    "# Displaying cluster summary (k=4)\n",
    "display(cluster_summary2)"
   ]
  },
  {
   "cell_type": "code",
   "execution_count": 106,
   "id": "2b2779ce",
   "metadata": {},
   "outputs": [
    {
     "data": {
      "application/vnd.plotly.v1+json": {
       "config": {
        "plotlyServerURL": "https://plot.ly"
       },
       "data": [
        {
         "hovertemplate": "<b>%{hovertext}</b><br><br>Cluster_Label=Cluster 0<br>PCA1=%{x}<br>PCA2=%{y}<extra></extra>",
         "hovertext": [
          "Kalmar",
          "Karlstad",
          "Upplands Väsby",
          "Vallentuna",
          "Österåker",
          "Värmdö",
          "Järfälla",
          "Ekerö",
          "Huddinge",
          "Botkyrka",
          "Salem",
          "Haninge",
          "Tyresö",
          "Upplands-Bro",
          "Nykvarn",
          "Täby",
          "Danderyd",
          "Sollentuna",
          "Södertälje",
          "Nacka",
          "Sundbyberg",
          "Solna",
          "Lidingö",
          "Vaxholm",
          "Norrtälje",
          "Sigtuna",
          "Nynäshamn",
          "Håbo",
          "Älvkarleby",
          "Heby",
          "Tierp",
          "Uppsala",
          "Enköping",
          "Östhammar",
          "Vingåker",
          "Gnesta",
          "Nyköping",
          "Flen",
          "Katrineholm",
          "Eskilstuna",
          "Strängnäs",
          "Trosa",
          "Ödeshög",
          "Ydre",
          "Kinda",
          "Boxholm",
          "Åtvidaberg",
          "Finspång",
          "Valdemarsvik",
          "Linköping",
          "Norrköping",
          "Söderköping",
          "Motala",
          "Vadstena",
          "Mjölby",
          "Aneby",
          "Gnosjö",
          "Mullsjö",
          "Habo",
          "Gislaved",
          "Vaggeryd",
          "Jönköping",
          "Nässjö",
          "Värnamo",
          "Sävsjö",
          "Vetlanda",
          "Eksjö",
          "Tranås",
          "Uppvidinge",
          "Lessebo",
          "Tingsryd",
          "Alvesta",
          "Älmhult",
          "Markaryd",
          "Växjö",
          "Ljungby",
          "Högsby",
          "Torsås",
          "Mörbylånga",
          "Hultsfred",
          "Mönsterås",
          "Emmaboda",
          "Nybro",
          "Oskarshamn",
          "Västervik",
          "Vimmerby",
          "Borgholm",
          "Olofström",
          "Karlskrona",
          "Sölvesborg",
          "Svalöv",
          "Staffanstorp",
          "Burlöv",
          "Vellinge",
          "Östra Göinge",
          "Örkelljunga",
          "Bjuv",
          "Kävlinge",
          "Lomma",
          "Svedala",
          "Skurup",
          "Sjöbo",
          "Hörby",
          "Höör",
          "Tomelilla",
          "Bromölla",
          "Osby",
          "Perstorp",
          "Klippan",
          "Åstorp",
          "Båstad",
          "Lund",
          "Landskrona",
          "Höganäs",
          "Eslöv",
          "Ystad",
          "Kristianstad",
          "Simrishamn",
          "Ängelholm",
          "Hässleholm",
          "Hylte",
          "Halmstad",
          "Laholm",
          "Falkenberg",
          "Varberg",
          "Kungsbacka",
          "Härryda",
          "Partille",
          "Öckerö",
          "Stenungsund",
          "Tjörn",
          "Orust",
          "Sotenäs",
          "Munkedal",
          "Färgelanda",
          "Ale",
          "Lerum",
          "Vårgårda",
          "Bollebygd",
          "Grästorp",
          "Essunga",
          "Karlsborg",
          "Gullspång",
          "Tranemo",
          "Bengtsfors",
          "Mellerud",
          "Lilla Edet",
          "Mark",
          "Svenljunga",
          "Herrljunga",
          "Vara",
          "Götene",
          "Tibro",
          "Töreboda",
          "Mölndal",
          "Kungälv",
          "Uddevalla",
          "Vänersborg",
          "Trollhättan",
          "Alingsås",
          "Borås",
          "Ulricehamn",
          "Åmål",
          "Mariestad",
          "Lidköping",
          "Skara",
          "Skövde",
          "Hjo",
          "Tidaholm",
          "Falköping",
          "Kil",
          "Storfors",
          "Hammarö",
          "Munkfors",
          "Forshaga",
          "Grums",
          "Sunne",
          "Kristinehamn",
          "Filipstad",
          "Hagfors",
          "Säffle",
          "Lekeberg",
          "Laxå",
          "Degerfors",
          "Hällefors",
          "Ljusnarsberg",
          "Örebro",
          "Kumla",
          "Askersund"
         ],
         "legendgroup": "Cluster 0",
         "marker": {
          "color": "#1f78b4",
          "line": {
           "color": "black",
           "width": 1
          },
          "opacity": 0.9,
          "size": 10,
          "symbol": "circle"
         },
         "mode": "markers",
         "name": "Cluster 0",
         "orientation": "v",
         "showlegend": true,
         "type": "scatter",
         "x": {
          "bdata": "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",
          "dtype": "f8"
         },
         "xaxis": "x",
         "y": {
          "bdata": "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",
          "dtype": "f8"
         },
         "yaxis": "y"
        },
        {
         "hovertemplate": "<b>%{hovertext}</b><br><br>Cluster_Label=Cluster 1<br>PCA1=%{x}<br>PCA2=%{y}<extra></extra>",
         "hovertext": [
          "Stockholm"
         ],
         "legendgroup": "Cluster 1",
         "marker": {
          "color": "#33a02c",
          "line": {
           "color": "black",
           "width": 1
          },
          "opacity": 0.9,
          "size": 10,
          "symbol": "circle"
         },
         "mode": "markers",
         "name": "Cluster 1",
         "orientation": "v",
         "showlegend": true,
         "type": "scatter",
         "x": {
          "bdata": "BxXnD1k0MUA=",
          "dtype": "f8"
         },
         "xaxis": "x",
         "y": {
          "bdata": "J8UXtk6aAUA=",
          "dtype": "f8"
         },
         "yaxis": "y"
        },
        {
         "hovertemplate": "<b>%{hovertext}</b><br><br>Cluster_Label=Cluster 2<br>PCA1=%{x}<br>PCA2=%{y}<extra></extra>",
         "hovertext": [
          "Haparanda",
          "Tanum",
          "Dals-Ed",
          "Strömstad",
          "Eda",
          "Torsby",
          "Årjäng",
          "Arvika"
         ],
         "legendgroup": "Cluster 2",
         "marker": {
          "color": "#e62bc6",
          "line": {
           "color": "black",
           "width": 1
          },
          "opacity": 0.9,
          "size": 10,
          "symbol": "circle"
         },
         "mode": "markers",
         "name": "Cluster 2",
         "orientation": "v",
         "showlegend": true,
         "type": "scatter",
         "x": {
          "bdata": "8cIAgJy07r+T0AoINnbuv0ACQk7ZuvS/+lDSrjms5r+f2Z2UxJX0v/GO/iUpbvK/mtn1Li7E879/vo3R7N/nvw==",
          "dtype": "f8"
         },
         "xaxis": "x",
         "y": {
          "bdata": "99iwxy/sEkCXuv/f71gSQF0gDPfx7RJASmZQgCx2EkC5tQP8LmcTQEMkJxMj1RJApmf/CjMqE0DaS/nbFmMSQA==",
          "dtype": "f8"
         },
         "yaxis": "y"
        },
        {
         "hovertemplate": "<b>%{hovertext}</b><br><br>Cluster_Label=Cluster 3<br>PCA1=%{x}<br>PCA2=%{y}<extra></extra>",
         "hovertext": [
          "Oxelösund",
          "Gotland",
          "Ronneby",
          "Karlshamn",
          "Malmö",
          "Helsingborg",
          "Trelleborg",
          "Lysekil",
          "Hallsberg"
         ],
         "legendgroup": "Cluster 3",
         "marker": {
          "color": "#b40426",
          "line": {
           "color": "black",
           "width": 1
          },
          "opacity": 0.9,
          "size": 10,
          "symbol": "circle"
         },
         "mode": "markers",
         "name": "Cluster 3",
         "orientation": "v",
         "showlegend": true,
         "type": "scatter",
         "x": {
          "bdata": "qvOztaMY6T81Nk+NnVv+PxfuZLCBkvU/bcv/wqpd9j/nGTrY/08bQL7TPgH69gxAG90Vuq4r9j8dI+A/kw/xP+HkMJYy2Og/",
          "dtype": "f8"
         },
         "xaxis": "x",
         "y": {
          "bdata": "qYPcrL5T7D/RPYRaugDoP5u13JK0j+c/GjgrGtLf5z/5/1NI3LvwP/P8RoFQE+w/E5aY4TWX6j9jUd8QKrbnP5vLl1QTaO0/",
          "dtype": "f8"
         },
         "yaxis": "y"
        }
       ],
       "layout": {
        "font": {
         "size": 12
        },
        "height": 600,
        "legend": {
         "orientation": "h",
         "title": {
          "text": "Cluster"
         },
         "tracegroupgap": 0,
         "x": 0.5,
         "xanchor": "center",
         "y": -0.25,
         "yanchor": "bottom"
        },
        "template": {
         "data": {
          "bar": [
           {
            "error_x": {
             "color": "#2a3f5f"
            },
            "error_y": {
             "color": "#2a3f5f"
            },
            "marker": {
             "line": {
              "color": "white",
              "width": 0.5
             },
             "pattern": {
              "fillmode": "overlay",
              "size": 10,
              "solidity": 0.2
             }
            },
            "type": "bar"
           }
          ],
          "barpolar": [
           {
            "marker": {
             "line": {
              "color": "white",
              "width": 0.5
             },
             "pattern": {
              "fillmode": "overlay",
              "size": 10,
              "solidity": 0.2
             }
            },
            "type": "barpolar"
           }
          ],
          "carpet": [
           {
            "aaxis": {
             "endlinecolor": "#2a3f5f",
             "gridcolor": "#C8D4E3",
             "linecolor": "#C8D4E3",
             "minorgridcolor": "#C8D4E3",
             "startlinecolor": "#2a3f5f"
            },
            "baxis": {
             "endlinecolor": "#2a3f5f",
             "gridcolor": "#C8D4E3",
             "linecolor": "#C8D4E3",
             "minorgridcolor": "#C8D4E3",
             "startlinecolor": "#2a3f5f"
            },
            "type": "carpet"
           }
          ],
          "choropleth": [
           {
            "colorbar": {
             "outlinewidth": 0,
             "ticks": ""
            },
            "type": "choropleth"
           }
          ],
          "contour": [
           {
            "colorbar": {
             "outlinewidth": 0,
             "ticks": ""
            },
            "colorscale": [
             [
              0,
              "#0d0887"
             ],
             [
              0.1111111111111111,
              "#46039f"
             ],
             [
              0.2222222222222222,
              "#7201a8"
             ],
             [
              0.3333333333333333,
              "#9c179e"
             ],
             [
              0.4444444444444444,
              "#bd3786"
             ],
             [
              0.5555555555555556,
              "#d8576b"
             ],
             [
              0.6666666666666666,
              "#ed7953"
             ],
             [
              0.7777777777777778,
              "#fb9f3a"
             ],
             [
              0.8888888888888888,
              "#fdca26"
             ],
             [
              1,
              "#f0f921"
             ]
            ],
            "type": "contour"
           }
          ],
          "contourcarpet": [
           {
            "colorbar": {
             "outlinewidth": 0,
             "ticks": ""
            },
            "type": "contourcarpet"
           }
          ],
          "heatmap": [
           {
            "colorbar": {
             "outlinewidth": 0,
             "ticks": ""
            },
            "colorscale": [
             [
              0,
              "#0d0887"
             ],
             [
              0.1111111111111111,
              "#46039f"
             ],
             [
              0.2222222222222222,
              "#7201a8"
             ],
             [
              0.3333333333333333,
              "#9c179e"
             ],
             [
              0.4444444444444444,
              "#bd3786"
             ],
             [
              0.5555555555555556,
              "#d8576b"
             ],
             [
              0.6666666666666666,
              "#ed7953"
             ],
             [
              0.7777777777777778,
              "#fb9f3a"
             ],
             [
              0.8888888888888888,
              "#fdca26"
             ],
             [
              1,
              "#f0f921"
             ]
            ],
            "type": "heatmap"
           }
          ],
          "histogram": [
           {
            "marker": {
             "pattern": {
              "fillmode": "overlay",
              "size": 10,
              "solidity": 0.2
             }
            },
            "type": "histogram"
           }
          ],
          "histogram2d": [
           {
            "colorbar": {
             "outlinewidth": 0,
             "ticks": ""
            },
            "colorscale": [
             [
              0,
              "#0d0887"
             ],
             [
              0.1111111111111111,
              "#46039f"
             ],
             [
              0.2222222222222222,
              "#7201a8"
             ],
             [
              0.3333333333333333,
              "#9c179e"
             ],
             [
              0.4444444444444444,
              "#bd3786"
             ],
             [
              0.5555555555555556,
              "#d8576b"
             ],
             [
              0.6666666666666666,
              "#ed7953"
             ],
             [
              0.7777777777777778,
              "#fb9f3a"
             ],
             [
              0.8888888888888888,
              "#fdca26"
             ],
             [
              1,
              "#f0f921"
             ]
            ],
            "type": "histogram2d"
           }
          ],
          "histogram2dcontour": [
           {
            "colorbar": {
             "outlinewidth": 0,
             "ticks": ""
            },
            "colorscale": [
             [
              0,
              "#0d0887"
             ],
             [
              0.1111111111111111,
              "#46039f"
             ],
             [
              0.2222222222222222,
              "#7201a8"
             ],
             [
              0.3333333333333333,
              "#9c179e"
             ],
             [
              0.4444444444444444,
              "#bd3786"
             ],
             [
              0.5555555555555556,
              "#d8576b"
             ],
             [
              0.6666666666666666,
              "#ed7953"
             ],
             [
              0.7777777777777778,
              "#fb9f3a"
             ],
             [
              0.8888888888888888,
              "#fdca26"
             ],
             [
              1,
              "#f0f921"
             ]
            ],
            "type": "histogram2dcontour"
           }
          ],
          "mesh3d": [
           {
            "colorbar": {
             "outlinewidth": 0,
             "ticks": ""
            },
            "type": "mesh3d"
           }
          ],
          "parcoords": [
           {
            "line": {
             "colorbar": {
              "outlinewidth": 0,
              "ticks": ""
             }
            },
            "type": "parcoords"
           }
          ],
          "pie": [
           {
            "automargin": true,
            "type": "pie"
           }
          ],
          "scatter": [
           {
            "fillpattern": {
             "fillmode": "overlay",
             "size": 10,
             "solidity": 0.2
            },
            "type": "scatter"
           }
          ],
          "scatter3d": [
           {
            "line": {
             "colorbar": {
              "outlinewidth": 0,
              "ticks": ""
             }
            },
            "marker": {
             "colorbar": {
              "outlinewidth": 0,
              "ticks": ""
             }
            },
            "type": "scatter3d"
           }
          ],
          "scattercarpet": [
           {
            "marker": {
             "colorbar": {
              "outlinewidth": 0,
              "ticks": ""
             }
            },
            "type": "scattercarpet"
           }
          ],
          "scattergeo": [
           {
            "marker": {
             "colorbar": {
              "outlinewidth": 0,
              "ticks": ""
             }
            },
            "type": "scattergeo"
           }
          ],
          "scattergl": [
           {
            "marker": {
             "colorbar": {
              "outlinewidth": 0,
              "ticks": ""
             }
            },
            "type": "scattergl"
           }
          ],
          "scattermap": [
           {
            "marker": {
             "colorbar": {
              "outlinewidth": 0,
              "ticks": ""
             }
            },
            "type": "scattermap"
           }
          ],
          "scattermapbox": [
           {
            "marker": {
             "colorbar": {
              "outlinewidth": 0,
              "ticks": ""
             }
            },
            "type": "scattermapbox"
           }
          ],
          "scatterpolar": [
           {
            "marker": {
             "colorbar": {
              "outlinewidth": 0,
              "ticks": ""
             }
            },
            "type": "scatterpolar"
           }
          ],
          "scatterpolargl": [
           {
            "marker": {
             "colorbar": {
              "outlinewidth": 0,
              "ticks": ""
             }
            },
            "type": "scatterpolargl"
           }
          ],
          "scatterternary": [
           {
            "marker": {
             "colorbar": {
              "outlinewidth": 0,
              "ticks": ""
             }
            },
            "type": "scatterternary"
           }
          ],
          "surface": [
           {
            "colorbar": {
             "outlinewidth": 0,
             "ticks": ""
            },
            "colorscale": [
             [
              0,
              "#0d0887"
             ],
             [
              0.1111111111111111,
              "#46039f"
             ],
             [
              0.2222222222222222,
              "#7201a8"
             ],
             [
              0.3333333333333333,
              "#9c179e"
             ],
             [
              0.4444444444444444,
              "#bd3786"
             ],
             [
              0.5555555555555556,
              "#d8576b"
             ],
             [
              0.6666666666666666,
              "#ed7953"
             ],
             [
              0.7777777777777778,
              "#fb9f3a"
             ],
             [
              0.8888888888888888,
              "#fdca26"
             ],
             [
              1,
              "#f0f921"
             ]
            ],
            "type": "surface"
           }
          ],
          "table": [
           {
            "cells": {
             "fill": {
              "color": "#EBF0F8"
             },
             "line": {
              "color": "white"
             }
            },
            "header": {
             "fill": {
              "color": "#C8D4E3"
             },
             "line": {
              "color": "white"
             }
            },
            "type": "table"
           }
          ]
         },
         "layout": {
          "annotationdefaults": {
           "arrowcolor": "#2a3f5f",
           "arrowhead": 0,
           "arrowwidth": 1
          },
          "autotypenumbers": "strict",
          "coloraxis": {
           "colorbar": {
            "outlinewidth": 0,
            "ticks": ""
           }
          },
          "colorscale": {
           "diverging": [
            [
             0,
             "#8e0152"
            ],
            [
             0.1,
             "#c51b7d"
            ],
            [
             0.2,
             "#de77ae"
            ],
            [
             0.3,
             "#f1b6da"
            ],
            [
             0.4,
             "#fde0ef"
            ],
            [
             0.5,
             "#f7f7f7"
            ],
            [
             0.6,
             "#e6f5d0"
            ],
            [
             0.7,
             "#b8e186"
            ],
            [
             0.8,
             "#7fbc41"
            ],
            [
             0.9,
             "#4d9221"
            ],
            [
             1,
             "#276419"
            ]
           ],
           "sequential": [
            [
             0,
             "#0d0887"
            ],
            [
             0.1111111111111111,
             "#46039f"
            ],
            [
             0.2222222222222222,
             "#7201a8"
            ],
            [
             0.3333333333333333,
             "#9c179e"
            ],
            [
             0.4444444444444444,
             "#bd3786"
            ],
            [
             0.5555555555555556,
             "#d8576b"
            ],
            [
             0.6666666666666666,
             "#ed7953"
            ],
            [
             0.7777777777777778,
             "#fb9f3a"
            ],
            [
             0.8888888888888888,
             "#fdca26"
            ],
            [
             1,
             "#f0f921"
            ]
           ],
           "sequentialminus": [
            [
             0,
             "#0d0887"
            ],
            [
             0.1111111111111111,
             "#46039f"
            ],
            [
             0.2222222222222222,
             "#7201a8"
            ],
            [
             0.3333333333333333,
             "#9c179e"
            ],
            [
             0.4444444444444444,
             "#bd3786"
            ],
            [
             0.5555555555555556,
             "#d8576b"
            ],
            [
             0.6666666666666666,
             "#ed7953"
            ],
            [
             0.7777777777777778,
             "#fb9f3a"
            ],
            [
             0.8888888888888888,
             "#fdca26"
            ],
            [
             1,
             "#f0f921"
            ]
           ]
          },
          "colorway": [
           "#636efa",
           "#EF553B",
           "#00cc96",
           "#ab63fa",
           "#FFA15A",
           "#19d3f3",
           "#FF6692",
           "#B6E880",
           "#FF97FF",
           "#FECB52"
          ],
          "font": {
           "color": "#2a3f5f"
          },
          "geo": {
           "bgcolor": "white",
           "lakecolor": "white",
           "landcolor": "white",
           "showlakes": true,
           "showland": true,
           "subunitcolor": "#C8D4E3"
          },
          "hoverlabel": {
           "align": "left"
          },
          "hovermode": "closest",
          "mapbox": {
           "style": "light"
          },
          "paper_bgcolor": "white",
          "plot_bgcolor": "white",
          "polar": {
           "angularaxis": {
            "gridcolor": "#EBF0F8",
            "linecolor": "#EBF0F8",
            "ticks": ""
           },
           "bgcolor": "white",
           "radialaxis": {
            "gridcolor": "#EBF0F8",
            "linecolor": "#EBF0F8",
            "ticks": ""
           }
          },
          "scene": {
           "xaxis": {
            "backgroundcolor": "white",
            "gridcolor": "#DFE8F3",
            "gridwidth": 2,
            "linecolor": "#EBF0F8",
            "showbackground": true,
            "ticks": "",
            "zerolinecolor": "#EBF0F8"
           },
           "yaxis": {
            "backgroundcolor": "white",
            "gridcolor": "#DFE8F3",
            "gridwidth": 2,
            "linecolor": "#EBF0F8",
            "showbackground": true,
            "ticks": "",
            "zerolinecolor": "#EBF0F8"
           },
           "zaxis": {
            "backgroundcolor": "white",
            "gridcolor": "#DFE8F3",
            "gridwidth": 2,
            "linecolor": "#EBF0F8",
            "showbackground": true,
            "ticks": "",
            "zerolinecolor": "#EBF0F8"
           }
          },
          "shapedefaults": {
           "line": {
            "color": "#2a3f5f"
           }
          },
          "ternary": {
           "aaxis": {
            "gridcolor": "#DFE8F3",
            "linecolor": "#A2B1C6",
            "ticks": ""
           },
           "baxis": {
            "gridcolor": "#DFE8F3",
            "linecolor": "#A2B1C6",
            "ticks": ""
           },
           "bgcolor": "white",
           "caxis": {
            "gridcolor": "#DFE8F3",
            "linecolor": "#A2B1C6",
            "ticks": ""
           }
          },
          "title": {
           "x": 0.05
          },
          "xaxis": {
           "automargin": true,
           "gridcolor": "#EBF0F8",
           "linecolor": "#EBF0F8",
           "ticks": "",
           "title": {
            "standoff": 15
           },
           "zerolinecolor": "#EBF0F8",
           "zerolinewidth": 2
          },
          "yaxis": {
           "automargin": true,
           "gridcolor": "#EBF0F8",
           "linecolor": "#EBF0F8",
           "ticks": "",
           "title": {
            "standoff": 15
           },
           "zerolinecolor": "#EBF0F8",
           "zerolinewidth": 2
          }
         }
        },
        "title": {
         "text": "PCA Cluster Plot by Kommun"
        },
        "width": 900,
        "xaxis": {
         "anchor": "y",
         "domain": [
          0,
          1
         ],
         "title": {
          "text": "Principal Component 1"
         }
        },
        "yaxis": {
         "anchor": "x",
         "domain": [
          0,
          1
         ],
         "title": {
          "text": "Principal Component 2"
         }
        }
       }
      }
     },
     "metadata": {},
     "output_type": "display_data"
    }
   ],
   "source": [
    "# Clustering Visualization using PCA (Principal Component Analysis)\n",
    "\n",
    "# Using scaled DataFrame\n",
    "df_viz = ikea_data_2.copy()  \n",
    "pca = PCA(n_components=2)\n",
    "pca_result = pca.fit_transform(ikea_data_scaled[num_cols])\n",
    "\n",
    "# Adding PCA components to DataFrame\n",
    "df_viz['PCA1'] = pca_result[:, 0]\n",
    "df_viz['PCA2'] = pca_result[:, 1]\n",
    "\n",
    "# Ensuring 'Cluster' is treated as categorical \n",
    "df_viz['Cluster'] = df_viz['Cluster'].astype(str)  # Critical for color mapping\n",
    "\n",
    "# Cluster labels\n",
    "cluster_labels = {\n",
    "    '0': 'Cluster 0',\n",
    "    '1': 'Cluster 1',\n",
    "    '2': 'Cluster 2',\n",
    "    '3': 'Cluster 3'\n",
    "    \n",
    "}\n",
    "df_viz['Cluster_Label'] = df_viz['Cluster'].map(cluster_labels)\n",
    "\n",
    "label_order = [\n",
    "    'Cluster 0',\n",
    "    'Cluster 1',\n",
    "    'Cluster 2',\n",
    "    'Cluster 3'\n",
    "]\n",
    "\n",
    "# Custom colors, with Cluster 0 set to a blue\n",
    "custom_colors = ['#1f78b4',   \n",
    "                 '#33a02c', \n",
    "                 '#e62bc6',\n",
    "                 '#b40426']  \n",
    "                  \n",
    "                  \n",
    "# Creating the interactive PCA plot\n",
    "fig = px.scatter(\n",
    "    df_viz,\n",
    "    x='PCA1',\n",
    "    y='PCA2',\n",
    "    color='Cluster_Label',\n",
    "    category_orders={\"Cluster_Label\": label_order},\n",
    "    color_discrete_sequence=custom_colors,  \n",
    "    hover_name='Kommun_name',\n",
    "    title='PCA Cluster Plot by Kommun',\n",
    "    width=900,\n",
    "    height=600,\n",
    "    opacity=0.9  # Slightly transparent for overlap clarity\n",
    ")\n",
    "\n",
    "# Enhance marker visibility\n",
    "fig.update_traces(\n",
    "    marker=dict(\n",
    "        size=10,\n",
    "        line=dict(width=1, color='black'),  # Black borders for contrast\n",
    "        opacity=0.9\n",
    "    )\n",
    ")\n",
    "\n",
    "# Improve layout readability\n",
    "fig.update_layout(\n",
    "    xaxis_title='Principal Component 1',\n",
    "    yaxis_title='Principal Component 2',\n",
    "    legend_title='Cluster',\n",
    "    template='plotly_white',\n",
    "    font=dict(size=12),\n",
    "    legend=dict(\n",
    "        orientation=\"h\",  # Horizontal legend\n",
    "        yanchor=\"bottom\",\n",
    "        y=-0.25,\n",
    "        xanchor=\"center\",\n",
    "        x=0.5\n",
    "    )\n",
    ")\n",
    "\n",
    "# Displaying plot\n",
    "fig.show()"
   ]
  },
  {
   "cell_type": "code",
   "execution_count": 107,
   "id": "d0a806f7",
   "metadata": {},
   "outputs": [
    {
     "name": "stdout",
     "output_type": "stream",
     "text": [
      "                        PCA1      PCA2\n",
      "Revenue             0.598278  0.111017\n",
      "Population          0.605238  0.078227\n",
      "Percent_University  0.401860 -0.265846\n",
      "Infrast             0.327512  0.216226\n",
      "Border             -0.083638  0.929585\n"
     ]
    }
   ],
   "source": [
    "# To understand which variables contributed to PCA 1 and PCA 2\n",
    "loadings = pd.DataFrame(\n",
    "    pca.components_.T,\n",
    "    columns=['PCA1', 'PCA2'],\n",
    "    index=num_cols\n",
    ")\n",
    "\n",
    "print(loadings)"
   ]
  },
  {
   "cell_type": "markdown",
   "id": "d324ddba",
   "metadata": {},
   "source": [
    "Comments: k=4 seems to be a better solution and it clusters based on Revenue, Population, Percent_University, Infrast and Border variables. The interactive visualization is very helpful in understanding which municipalities belong to which cluster. PCA loadings help understand which variables influence the most clustering and in which direction. In the X axis: Population, Revenue, Percent_University and Infrast influence clustering and in the y-axis Border variable has most influence. It is clear that Cluster 2 has all Border municipalities and CLuster 1 (Stockholm) has the highest Population, highest Revenue, high Percent_Univeristy and Infrast = 1"
   ]
  },
  {
   "cell_type": "markdown",
   "id": "a1880fcc",
   "metadata": {},
   "source": [
    "#### Evaluating cluster to obtain most promising municipalities for IKEA expansion"
   ]
  },
  {
   "cell_type": "code",
   "execution_count": 108,
   "id": "d91acdab",
   "metadata": {},
   "outputs": [
    {
     "name": "stdout",
     "output_type": "stream",
     "text": [
      "Cluster\n",
      "0    8\n",
      "1    1\n",
      "2    1\n",
      "3    2\n",
      "Name: Kommun_name, dtype: int64\n"
     ]
    }
   ],
   "source": [
    "# List to remove municipalities that have IKEA\n",
    "existing_ikea_municipalities = [\n",
    "    \"Borlänge\", \"Gävle\", \"Göteborg\", \"Haparanda\", \"Helsingborg\",\n",
    "    \"Jönköping\", \"Kalmar\", \"Karlstad\", \"Linköping\", \"Malmö\", \"Stockholm\",\n",
    "    \"Sundsvall\", \"Uddevalla\", \"Umeå\", \"Uppsala\", \"Västerås\", \"Älmhult\", \"Örebro\"\n",
    "]\n",
    "\n",
    "# Tag whether a municipality has IKEA\n",
    "df_viz['Has_IKEA'] = df_viz['Kommun_name'].isin(existing_ikea_municipalities)\n",
    "\n",
    "# Frequency of IKEA cities by cluster\n",
    "ikea_cluster_counts = df_viz[df_viz['Has_IKEA']].groupby('Cluster')['Kommun_name'].count()\n",
    "print(ikea_cluster_counts)\n"
   ]
  },
  {
   "cell_type": "code",
   "execution_count": 109,
   "id": "d938a005",
   "metadata": {},
   "outputs": [
    {
     "name": "stdout",
     "output_type": "stream",
     "text": [
      "    Kommun_name  Revenue  Population  Percent_University  Infrast\n",
      "9      Huddinge     7153       97453            0.131294        0\n",
      "7      Järfälla     5119       66211            0.136065        0\n",
      "53   Norrköping     4438      130050            0.111696        0\n",
      "132  Falkenberg     4395       41008            0.082813        0\n",
      "165     Mölndal     3512       60973            0.163384        0\n"
     ]
    }
   ],
   "source": [
    "# Using the cluster which has the most IKEAs\n",
    "target_cluster = '0'\n",
    "\n",
    "# Filtering non-IKEA municipalities in the same cluster\n",
    "candidate_municipalities = df_viz[\n",
    "    (df_viz['Has_IKEA'] == False) & (df_viz['Cluster'] == target_cluster)\n",
    "]\n",
    "\n",
    "# Sorting by multiple factors \n",
    "top_candidates = candidate_municipalities.sort_values(\n",
    "    by=['Revenue','Population', 'Percent_University', 'Infrast'],\n",
    "    ascending=[ False, False, False, False]\n",
    ")\n",
    "\n",
    "# Showing top 5\n",
    "top_5 = top_candidates[['Kommun_name', 'Revenue', 'Population', 'Percent_University', 'Infrast']].head(5)\n",
    "print(top_5)\n"
   ]
  },
  {
   "cell_type": "markdown",
   "id": "95ea4476",
   "metadata": {},
   "source": [
    "Comments: After clustering is done checking for the clusters which has the most number of IKEAs as this implies that IKEA worked for municipalities belonging to this cluster (cluster 0). Hence selecting potential municipalities based on Revenue, Population, Percent_University and Infrast. The order is important as selecting based on Population but if that municipality has lower revenue then this might not be helpful to have an IKEA in that municipality. Revenue and Population signify the most demand. Hence this justifies the selection of variables. Top 5 kommuns selected: Huddinge, Järfalla, Norrköping, Falkenberg, Mölndal."
   ]
  }
 ],
 "metadata": {
  "kernelspec": {
   "display_name": "Python 3",
   "language": "python",
   "name": "python3"
  },
  "language_info": {
   "codemirror_mode": {
    "name": "ipython",
    "version": 3
   },
   "file_extension": ".py",
   "mimetype": "text/x-python",
   "name": "python",
   "nbconvert_exporter": "python",
   "pygments_lexer": "ipython3",
   "version": "3.13.2"
  }
 },
 "nbformat": 4,
 "nbformat_minor": 5
}
